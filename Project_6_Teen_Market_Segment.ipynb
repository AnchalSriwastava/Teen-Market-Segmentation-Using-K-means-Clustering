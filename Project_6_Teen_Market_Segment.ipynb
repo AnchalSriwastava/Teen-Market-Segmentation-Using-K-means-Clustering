{
  "nbformat": 4,
  "nbformat_minor": 0,
  "metadata": {
    "kernelspec": {
      "display_name": "Python 3",
      "language": "python",
      "name": "python3"
    },
    "language_info": {
      "codemirror_mode": {
        "name": "ipython",
        "version": 3
      },
      "file_extension": ".py",
      "mimetype": "text/x-python",
      "name": "python",
      "nbconvert_exporter": "python",
      "pygments_lexer": "ipython3",
      "version": "3.7.6"
    },
    "colab": {
      "name": "Project_6_Teen Market Segment.ipynb",
      "provenance": []
    }
  },
  "cells": [
    {
      "cell_type": "markdown",
      "metadata": {
        "id": "rby9_GLI_FKj"
      },
      "source": [
        "# Teen Market Segmentation Using K-means Clustering"
      ]
    },
    {
      "cell_type": "markdown",
      "metadata": {
        "id": "tmjho8sz_FKl"
      },
      "source": [
        "Interacting with friends on a social networking service (SNS) has become a rite of passage for teenagers around the world. The many millions of teenage consumers using such sites have attracted the attention of marketers struggling to find an edge in an increasingly competitive market. One way to gain this edge is to identify segments of teenagers who share similar tastes, so that clients can avoid targeting advertisements to teens with no interest in the product being sold. For instance, sporting apparel is likely to be a difficult sell to teens with no interest in sports."
      ]
    },
    {
      "cell_type": "markdown",
      "metadata": {
        "id": "U-2C-iot_FKm"
      },
      "source": [
        "## Dataset Information"
      ]
    },
    {
      "cell_type": "markdown",
      "metadata": {
        "id": "2MSfR_c4_FKo"
      },
      "source": [
        "The dataset represents a random sample of 30,000 U.S. high school students who had profiles on a well-known SNS in 2006. To protect the users’ anonymity, the SNS will remain unnamed. The data was sampled evenly across four high school graduation years (2006 through 2009) representing the senior, junior, sophomore, and freshman classes at the time of data collection\n",
        "The dataset contatins 40 variables like: gender, age, friends, basketball, football, soccer, softball, volleyball,swimming, cute, sexy, kissed, sports, rock, god, church, bible, hair, mall, clothes, hollister, drugs etc whcih shows their interests. The final dataset indicates, for each person, how many times each word appeared in the person’s SNS profile"
      ]
    },
    {
      "cell_type": "markdown",
      "metadata": {
        "id": "38GX2JRO_FKq"
      },
      "source": [
        "## Load Libraries"
      ]
    },
    {
      "cell_type": "code",
      "metadata": {
        "id": "_olLbfdT_FKs"
      },
      "source": [
        "# Importing Packages\n",
        "import os\n",
        "import pandas as pd\n",
        "import pandas.util.testing as tm\n",
        "import numpy as np\n",
        "import matplotlib.pyplot as plt\n",
        "%matplotlib inline\n",
        "import seaborn as sns"
      ],
      "execution_count": null,
      "outputs": []
    },
    {
      "cell_type": "code",
      "metadata": {
        "id": "Kjlw-l-D_PwQ",
        "colab": {
          "base_uri": "https://localhost:8080/",
          "height": 121
        },
        "outputId": "f49d1b8b-0edf-46df-ed49-ee7f1e523dab"
      },
      "source": [
        "from google.colab import drive\n",
        "drive.mount('/content/drive')"
      ],
      "execution_count": null,
      "outputs": [
        {
          "output_type": "stream",
          "text": [
            "Go to this URL in a browser: https://accounts.google.com/o/oauth2/auth?client_id=947318989803-6bn6qk8qdgf4n4g3pfee6491hc0brc4i.apps.googleusercontent.com&redirect_uri=urn%3aietf%3awg%3aoauth%3a2.0%3aoob&response_type=code&scope=email%20https%3a%2f%2fwww.googleapis.com%2fauth%2fdocs.test%20https%3a%2f%2fwww.googleapis.com%2fauth%2fdrive%20https%3a%2f%2fwww.googleapis.com%2fauth%2fdrive.photos.readonly%20https%3a%2f%2fwww.googleapis.com%2fauth%2fpeopleapi.readonly\n",
            "\n",
            "Enter your authorization code:\n",
            "··········\n",
            "Mounted at /content/drive\n"
          ],
          "name": "stdout"
        }
      ]
    },
    {
      "cell_type": "code",
      "metadata": {
        "id": "oAngYBJz_P2Z"
      },
      "source": [
        "# to specified directory \n",
        "os.chdir(r\"/content/drive/My Drive/Python_Stats/Clustering/Project 7/Dataset\")"
      ],
      "execution_count": null,
      "outputs": []
    },
    {
      "cell_type": "markdown",
      "metadata": {
        "id": "2KQJ9mKa_FK1"
      },
      "source": [
        "# Load Data"
      ]
    },
    {
      "cell_type": "code",
      "metadata": {
        "id": "4-X8nhDM_FK2",
        "colab": {
          "base_uri": "https://localhost:8080/",
          "height": 215
        },
        "outputId": "5f6aa35b-08ee-488c-87c7-e104fcc81fae"
      },
      "source": [
        "pd.set_option('display.max_columns',None)\n",
        "data = pd.read_csv(\"snsdata.csv\")\n",
        "data.head()\n"
      ],
      "execution_count": null,
      "outputs": [
        {
          "output_type": "execute_result",
          "data": {
            "text/html": [
              "<div>\n",
              "<style scoped>\n",
              "    .dataframe tbody tr th:only-of-type {\n",
              "        vertical-align: middle;\n",
              "    }\n",
              "\n",
              "    .dataframe tbody tr th {\n",
              "        vertical-align: top;\n",
              "    }\n",
              "\n",
              "    .dataframe thead th {\n",
              "        text-align: right;\n",
              "    }\n",
              "</style>\n",
              "<table border=\"1\" class=\"dataframe\">\n",
              "  <thead>\n",
              "    <tr style=\"text-align: right;\">\n",
              "      <th></th>\n",
              "      <th>gradyear</th>\n",
              "      <th>gender</th>\n",
              "      <th>age</th>\n",
              "      <th>friends</th>\n",
              "      <th>basketball</th>\n",
              "      <th>football</th>\n",
              "      <th>soccer</th>\n",
              "      <th>softball</th>\n",
              "      <th>volleyball</th>\n",
              "      <th>swimming</th>\n",
              "      <th>cheerleading</th>\n",
              "      <th>baseball</th>\n",
              "      <th>tennis</th>\n",
              "      <th>sports</th>\n",
              "      <th>cute</th>\n",
              "      <th>sex</th>\n",
              "      <th>sexy</th>\n",
              "      <th>hot</th>\n",
              "      <th>kissed</th>\n",
              "      <th>dance</th>\n",
              "      <th>band</th>\n",
              "      <th>marching</th>\n",
              "      <th>music</th>\n",
              "      <th>rock</th>\n",
              "      <th>god</th>\n",
              "      <th>church</th>\n",
              "      <th>jesus</th>\n",
              "      <th>bible</th>\n",
              "      <th>hair</th>\n",
              "      <th>dress</th>\n",
              "      <th>blonde</th>\n",
              "      <th>mall</th>\n",
              "      <th>shopping</th>\n",
              "      <th>clothes</th>\n",
              "      <th>hollister</th>\n",
              "      <th>abercrombie</th>\n",
              "      <th>die</th>\n",
              "      <th>death</th>\n",
              "      <th>drunk</th>\n",
              "      <th>drugs</th>\n",
              "    </tr>\n",
              "  </thead>\n",
              "  <tbody>\n",
              "    <tr>\n",
              "      <th>0</th>\n",
              "      <td>2006</td>\n",
              "      <td>M</td>\n",
              "      <td>18.982</td>\n",
              "      <td>7</td>\n",
              "      <td>0</td>\n",
              "      <td>0</td>\n",
              "      <td>0</td>\n",
              "      <td>0</td>\n",
              "      <td>0</td>\n",
              "      <td>0</td>\n",
              "      <td>0</td>\n",
              "      <td>0</td>\n",
              "      <td>0</td>\n",
              "      <td>0</td>\n",
              "      <td>0</td>\n",
              "      <td>0</td>\n",
              "      <td>0</td>\n",
              "      <td>0</td>\n",
              "      <td>0</td>\n",
              "      <td>1</td>\n",
              "      <td>0</td>\n",
              "      <td>0</td>\n",
              "      <td>0</td>\n",
              "      <td>0</td>\n",
              "      <td>0</td>\n",
              "      <td>0</td>\n",
              "      <td>0</td>\n",
              "      <td>0</td>\n",
              "      <td>0</td>\n",
              "      <td>0</td>\n",
              "      <td>0</td>\n",
              "      <td>0</td>\n",
              "      <td>0</td>\n",
              "      <td>0</td>\n",
              "      <td>0</td>\n",
              "      <td>0</td>\n",
              "      <td>0</td>\n",
              "      <td>0</td>\n",
              "      <td>0</td>\n",
              "      <td>0</td>\n",
              "    </tr>\n",
              "    <tr>\n",
              "      <th>1</th>\n",
              "      <td>2006</td>\n",
              "      <td>F</td>\n",
              "      <td>18.801</td>\n",
              "      <td>0</td>\n",
              "      <td>0</td>\n",
              "      <td>1</td>\n",
              "      <td>0</td>\n",
              "      <td>0</td>\n",
              "      <td>0</td>\n",
              "      <td>0</td>\n",
              "      <td>0</td>\n",
              "      <td>0</td>\n",
              "      <td>0</td>\n",
              "      <td>0</td>\n",
              "      <td>1</td>\n",
              "      <td>0</td>\n",
              "      <td>0</td>\n",
              "      <td>0</td>\n",
              "      <td>0</td>\n",
              "      <td>0</td>\n",
              "      <td>0</td>\n",
              "      <td>0</td>\n",
              "      <td>2</td>\n",
              "      <td>2</td>\n",
              "      <td>1</td>\n",
              "      <td>0</td>\n",
              "      <td>0</td>\n",
              "      <td>0</td>\n",
              "      <td>6</td>\n",
              "      <td>4</td>\n",
              "      <td>0</td>\n",
              "      <td>1</td>\n",
              "      <td>0</td>\n",
              "      <td>0</td>\n",
              "      <td>0</td>\n",
              "      <td>0</td>\n",
              "      <td>0</td>\n",
              "      <td>0</td>\n",
              "      <td>0</td>\n",
              "      <td>0</td>\n",
              "    </tr>\n",
              "    <tr>\n",
              "      <th>2</th>\n",
              "      <td>2006</td>\n",
              "      <td>M</td>\n",
              "      <td>18.335</td>\n",
              "      <td>69</td>\n",
              "      <td>0</td>\n",
              "      <td>1</td>\n",
              "      <td>0</td>\n",
              "      <td>0</td>\n",
              "      <td>0</td>\n",
              "      <td>0</td>\n",
              "      <td>0</td>\n",
              "      <td>0</td>\n",
              "      <td>0</td>\n",
              "      <td>0</td>\n",
              "      <td>0</td>\n",
              "      <td>0</td>\n",
              "      <td>0</td>\n",
              "      <td>0</td>\n",
              "      <td>0</td>\n",
              "      <td>0</td>\n",
              "      <td>2</td>\n",
              "      <td>0</td>\n",
              "      <td>1</td>\n",
              "      <td>0</td>\n",
              "      <td>0</td>\n",
              "      <td>0</td>\n",
              "      <td>0</td>\n",
              "      <td>0</td>\n",
              "      <td>0</td>\n",
              "      <td>0</td>\n",
              "      <td>0</td>\n",
              "      <td>0</td>\n",
              "      <td>0</td>\n",
              "      <td>0</td>\n",
              "      <td>0</td>\n",
              "      <td>0</td>\n",
              "      <td>0</td>\n",
              "      <td>1</td>\n",
              "      <td>0</td>\n",
              "      <td>0</td>\n",
              "    </tr>\n",
              "    <tr>\n",
              "      <th>3</th>\n",
              "      <td>2006</td>\n",
              "      <td>F</td>\n",
              "      <td>18.875</td>\n",
              "      <td>0</td>\n",
              "      <td>0</td>\n",
              "      <td>0</td>\n",
              "      <td>0</td>\n",
              "      <td>0</td>\n",
              "      <td>0</td>\n",
              "      <td>0</td>\n",
              "      <td>0</td>\n",
              "      <td>0</td>\n",
              "      <td>0</td>\n",
              "      <td>0</td>\n",
              "      <td>1</td>\n",
              "      <td>0</td>\n",
              "      <td>0</td>\n",
              "      <td>0</td>\n",
              "      <td>0</td>\n",
              "      <td>0</td>\n",
              "      <td>0</td>\n",
              "      <td>0</td>\n",
              "      <td>0</td>\n",
              "      <td>1</td>\n",
              "      <td>0</td>\n",
              "      <td>0</td>\n",
              "      <td>0</td>\n",
              "      <td>0</td>\n",
              "      <td>0</td>\n",
              "      <td>0</td>\n",
              "      <td>0</td>\n",
              "      <td>0</td>\n",
              "      <td>0</td>\n",
              "      <td>0</td>\n",
              "      <td>0</td>\n",
              "      <td>0</td>\n",
              "      <td>0</td>\n",
              "      <td>0</td>\n",
              "      <td>0</td>\n",
              "      <td>0</td>\n",
              "    </tr>\n",
              "    <tr>\n",
              "      <th>4</th>\n",
              "      <td>2006</td>\n",
              "      <td>NaN</td>\n",
              "      <td>18.995</td>\n",
              "      <td>10</td>\n",
              "      <td>0</td>\n",
              "      <td>0</td>\n",
              "      <td>0</td>\n",
              "      <td>0</td>\n",
              "      <td>0</td>\n",
              "      <td>0</td>\n",
              "      <td>0</td>\n",
              "      <td>0</td>\n",
              "      <td>0</td>\n",
              "      <td>0</td>\n",
              "      <td>0</td>\n",
              "      <td>1</td>\n",
              "      <td>0</td>\n",
              "      <td>0</td>\n",
              "      <td>5</td>\n",
              "      <td>1</td>\n",
              "      <td>1</td>\n",
              "      <td>0</td>\n",
              "      <td>3</td>\n",
              "      <td>0</td>\n",
              "      <td>1</td>\n",
              "      <td>0</td>\n",
              "      <td>0</td>\n",
              "      <td>0</td>\n",
              "      <td>1</td>\n",
              "      <td>0</td>\n",
              "      <td>0</td>\n",
              "      <td>0</td>\n",
              "      <td>2</td>\n",
              "      <td>0</td>\n",
              "      <td>0</td>\n",
              "      <td>0</td>\n",
              "      <td>0</td>\n",
              "      <td>0</td>\n",
              "      <td>1</td>\n",
              "      <td>1</td>\n",
              "    </tr>\n",
              "  </tbody>\n",
              "</table>\n",
              "</div>"
            ],
            "text/plain": [
              "   gradyear gender     age  friends  basketball  football  soccer  softball  \\\n",
              "0      2006      M  18.982        7           0         0       0         0   \n",
              "1      2006      F  18.801        0           0         1       0         0   \n",
              "2      2006      M  18.335       69           0         1       0         0   \n",
              "3      2006      F  18.875        0           0         0       0         0   \n",
              "4      2006    NaN  18.995       10           0         0       0         0   \n",
              "\n",
              "   volleyball  swimming  cheerleading  baseball  tennis  sports  cute  sex  \\\n",
              "0           0         0             0         0       0       0     0    0   \n",
              "1           0         0             0         0       0       0     1    0   \n",
              "2           0         0             0         0       0       0     0    0   \n",
              "3           0         0             0         0       0       0     1    0   \n",
              "4           0         0             0         0       0       0     0    1   \n",
              "\n",
              "   sexy  hot  kissed  dance  band  marching  music  rock  god  church  jesus  \\\n",
              "0     0    0       0      1     0         0      0     0    0       0      0   \n",
              "1     0    0       0      0     0         0      2     2    1       0      0   \n",
              "2     0    0       0      0     2         0      1     0    0       0      0   \n",
              "3     0    0       0      0     0         0      0     1    0       0      0   \n",
              "4     0    0       5      1     1         0      3     0    1       0      0   \n",
              "\n",
              "   bible  hair  dress  blonde  mall  shopping  clothes  hollister  \\\n",
              "0      0     0      0       0     0         0        0          0   \n",
              "1      0     6      4       0     1         0        0          0   \n",
              "2      0     0      0       0     0         0        0          0   \n",
              "3      0     0      0       0     0         0        0          0   \n",
              "4      0     1      0       0     0         2        0          0   \n",
              "\n",
              "   abercrombie  die  death  drunk  drugs  \n",
              "0            0    0      0      0      0  \n",
              "1            0    0      0      0      0  \n",
              "2            0    0      1      0      0  \n",
              "3            0    0      0      0      0  \n",
              "4            0    0      0      1      1  "
            ]
          },
          "metadata": {
            "tags": []
          },
          "execution_count": 4
        }
      ]
    },
    {
      "cell_type": "code",
      "metadata": {
        "id": "TSCF1hNzAQ2U",
        "colab": {
          "base_uri": "https://localhost:8080/",
          "height": 215
        },
        "outputId": "85447828-3fb9-410e-f0a2-9416d62a9adf"
      },
      "source": [
        "data.tail()"
      ],
      "execution_count": null,
      "outputs": [
        {
          "output_type": "execute_result",
          "data": {
            "text/html": [
              "<div>\n",
              "<style scoped>\n",
              "    .dataframe tbody tr th:only-of-type {\n",
              "        vertical-align: middle;\n",
              "    }\n",
              "\n",
              "    .dataframe tbody tr th {\n",
              "        vertical-align: top;\n",
              "    }\n",
              "\n",
              "    .dataframe thead th {\n",
              "        text-align: right;\n",
              "    }\n",
              "</style>\n",
              "<table border=\"1\" class=\"dataframe\">\n",
              "  <thead>\n",
              "    <tr style=\"text-align: right;\">\n",
              "      <th></th>\n",
              "      <th>gradyear</th>\n",
              "      <th>gender</th>\n",
              "      <th>age</th>\n",
              "      <th>friends</th>\n",
              "      <th>basketball</th>\n",
              "      <th>football</th>\n",
              "      <th>soccer</th>\n",
              "      <th>softball</th>\n",
              "      <th>volleyball</th>\n",
              "      <th>swimming</th>\n",
              "      <th>cheerleading</th>\n",
              "      <th>baseball</th>\n",
              "      <th>tennis</th>\n",
              "      <th>sports</th>\n",
              "      <th>cute</th>\n",
              "      <th>sex</th>\n",
              "      <th>sexy</th>\n",
              "      <th>hot</th>\n",
              "      <th>kissed</th>\n",
              "      <th>dance</th>\n",
              "      <th>band</th>\n",
              "      <th>marching</th>\n",
              "      <th>music</th>\n",
              "      <th>rock</th>\n",
              "      <th>god</th>\n",
              "      <th>church</th>\n",
              "      <th>jesus</th>\n",
              "      <th>bible</th>\n",
              "      <th>hair</th>\n",
              "      <th>dress</th>\n",
              "      <th>blonde</th>\n",
              "      <th>mall</th>\n",
              "      <th>shopping</th>\n",
              "      <th>clothes</th>\n",
              "      <th>hollister</th>\n",
              "      <th>abercrombie</th>\n",
              "      <th>die</th>\n",
              "      <th>death</th>\n",
              "      <th>drunk</th>\n",
              "      <th>drugs</th>\n",
              "    </tr>\n",
              "  </thead>\n",
              "  <tbody>\n",
              "    <tr>\n",
              "      <th>29995</th>\n",
              "      <td>2009</td>\n",
              "      <td>M</td>\n",
              "      <td>16.115</td>\n",
              "      <td>0</td>\n",
              "      <td>0</td>\n",
              "      <td>0</td>\n",
              "      <td>0</td>\n",
              "      <td>0</td>\n",
              "      <td>0</td>\n",
              "      <td>0</td>\n",
              "      <td>0</td>\n",
              "      <td>0</td>\n",
              "      <td>0</td>\n",
              "      <td>0</td>\n",
              "      <td>0</td>\n",
              "      <td>0</td>\n",
              "      <td>0</td>\n",
              "      <td>0</td>\n",
              "      <td>0</td>\n",
              "      <td>0</td>\n",
              "      <td>0</td>\n",
              "      <td>0</td>\n",
              "      <td>0</td>\n",
              "      <td>0</td>\n",
              "      <td>0</td>\n",
              "      <td>0</td>\n",
              "      <td>0</td>\n",
              "      <td>0</td>\n",
              "      <td>0</td>\n",
              "      <td>0</td>\n",
              "      <td>0</td>\n",
              "      <td>0</td>\n",
              "      <td>0</td>\n",
              "      <td>0</td>\n",
              "      <td>0</td>\n",
              "      <td>0</td>\n",
              "      <td>0</td>\n",
              "      <td>0</td>\n",
              "      <td>0</td>\n",
              "      <td>0</td>\n",
              "    </tr>\n",
              "    <tr>\n",
              "      <th>29996</th>\n",
              "      <td>2009</td>\n",
              "      <td>M</td>\n",
              "      <td>15.792</td>\n",
              "      <td>1</td>\n",
              "      <td>0</td>\n",
              "      <td>1</td>\n",
              "      <td>0</td>\n",
              "      <td>0</td>\n",
              "      <td>0</td>\n",
              "      <td>0</td>\n",
              "      <td>0</td>\n",
              "      <td>0</td>\n",
              "      <td>0</td>\n",
              "      <td>0</td>\n",
              "      <td>0</td>\n",
              "      <td>0</td>\n",
              "      <td>0</td>\n",
              "      <td>0</td>\n",
              "      <td>0</td>\n",
              "      <td>0</td>\n",
              "      <td>0</td>\n",
              "      <td>0</td>\n",
              "      <td>0</td>\n",
              "      <td>0</td>\n",
              "      <td>0</td>\n",
              "      <td>0</td>\n",
              "      <td>0</td>\n",
              "      <td>0</td>\n",
              "      <td>0</td>\n",
              "      <td>0</td>\n",
              "      <td>0</td>\n",
              "      <td>0</td>\n",
              "      <td>0</td>\n",
              "      <td>0</td>\n",
              "      <td>0</td>\n",
              "      <td>0</td>\n",
              "      <td>0</td>\n",
              "      <td>0</td>\n",
              "      <td>0</td>\n",
              "      <td>0</td>\n",
              "    </tr>\n",
              "    <tr>\n",
              "      <th>29997</th>\n",
              "      <td>2009</td>\n",
              "      <td>M</td>\n",
              "      <td>15.784</td>\n",
              "      <td>0</td>\n",
              "      <td>0</td>\n",
              "      <td>1</td>\n",
              "      <td>0</td>\n",
              "      <td>0</td>\n",
              "      <td>0</td>\n",
              "      <td>0</td>\n",
              "      <td>0</td>\n",
              "      <td>1</td>\n",
              "      <td>0</td>\n",
              "      <td>0</td>\n",
              "      <td>0</td>\n",
              "      <td>0</td>\n",
              "      <td>0</td>\n",
              "      <td>0</td>\n",
              "      <td>0</td>\n",
              "      <td>0</td>\n",
              "      <td>0</td>\n",
              "      <td>0</td>\n",
              "      <td>0</td>\n",
              "      <td>0</td>\n",
              "      <td>0</td>\n",
              "      <td>0</td>\n",
              "      <td>0</td>\n",
              "      <td>0</td>\n",
              "      <td>0</td>\n",
              "      <td>0</td>\n",
              "      <td>0</td>\n",
              "      <td>0</td>\n",
              "      <td>0</td>\n",
              "      <td>0</td>\n",
              "      <td>0</td>\n",
              "      <td>0</td>\n",
              "      <td>0</td>\n",
              "      <td>0</td>\n",
              "      <td>0</td>\n",
              "      <td>0</td>\n",
              "    </tr>\n",
              "    <tr>\n",
              "      <th>29998</th>\n",
              "      <td>2009</td>\n",
              "      <td>M</td>\n",
              "      <td>16.378</td>\n",
              "      <td>0</td>\n",
              "      <td>0</td>\n",
              "      <td>0</td>\n",
              "      <td>0</td>\n",
              "      <td>0</td>\n",
              "      <td>0</td>\n",
              "      <td>0</td>\n",
              "      <td>0</td>\n",
              "      <td>0</td>\n",
              "      <td>0</td>\n",
              "      <td>0</td>\n",
              "      <td>0</td>\n",
              "      <td>0</td>\n",
              "      <td>0</td>\n",
              "      <td>0</td>\n",
              "      <td>0</td>\n",
              "      <td>0</td>\n",
              "      <td>0</td>\n",
              "      <td>0</td>\n",
              "      <td>0</td>\n",
              "      <td>1</td>\n",
              "      <td>0</td>\n",
              "      <td>0</td>\n",
              "      <td>0</td>\n",
              "      <td>0</td>\n",
              "      <td>0</td>\n",
              "      <td>0</td>\n",
              "      <td>0</td>\n",
              "      <td>0</td>\n",
              "      <td>0</td>\n",
              "      <td>0</td>\n",
              "      <td>0</td>\n",
              "      <td>0</td>\n",
              "      <td>0</td>\n",
              "      <td>0</td>\n",
              "      <td>0</td>\n",
              "      <td>0</td>\n",
              "    </tr>\n",
              "    <tr>\n",
              "      <th>29999</th>\n",
              "      <td>2009</td>\n",
              "      <td>F</td>\n",
              "      <td>18.724</td>\n",
              "      <td>3</td>\n",
              "      <td>2</td>\n",
              "      <td>0</td>\n",
              "      <td>0</td>\n",
              "      <td>1</td>\n",
              "      <td>0</td>\n",
              "      <td>0</td>\n",
              "      <td>0</td>\n",
              "      <td>0</td>\n",
              "      <td>0</td>\n",
              "      <td>0</td>\n",
              "      <td>0</td>\n",
              "      <td>0</td>\n",
              "      <td>0</td>\n",
              "      <td>0</td>\n",
              "      <td>0</td>\n",
              "      <td>0</td>\n",
              "      <td>0</td>\n",
              "      <td>0</td>\n",
              "      <td>2</td>\n",
              "      <td>0</td>\n",
              "      <td>0</td>\n",
              "      <td>0</td>\n",
              "      <td>0</td>\n",
              "      <td>0</td>\n",
              "      <td>0</td>\n",
              "      <td>0</td>\n",
              "      <td>0</td>\n",
              "      <td>0</td>\n",
              "      <td>0</td>\n",
              "      <td>0</td>\n",
              "      <td>0</td>\n",
              "      <td>0</td>\n",
              "      <td>0</td>\n",
              "      <td>0</td>\n",
              "      <td>0</td>\n",
              "      <td>0</td>\n",
              "    </tr>\n",
              "  </tbody>\n",
              "</table>\n",
              "</div>"
            ],
            "text/plain": [
              "       gradyear gender     age  friends  basketball  football  soccer  \\\n",
              "29995      2009      M  16.115        0           0         0       0   \n",
              "29996      2009      M  15.792        1           0         1       0   \n",
              "29997      2009      M  15.784        0           0         1       0   \n",
              "29998      2009      M  16.378        0           0         0       0   \n",
              "29999      2009      F  18.724        3           2         0       0   \n",
              "\n",
              "       softball  volleyball  swimming  cheerleading  baseball  tennis  sports  \\\n",
              "29995         0           0         0             0         0       0       0   \n",
              "29996         0           0         0             0         0       0       0   \n",
              "29997         0           0         0             0         1       0       0   \n",
              "29998         0           0         0             0         0       0       0   \n",
              "29999         1           0         0             0         0       0       0   \n",
              "\n",
              "       cute  sex  sexy  hot  kissed  dance  band  marching  music  rock  god  \\\n",
              "29995     0    0     0    0       0      0     0         0      0     0    0   \n",
              "29996     0    0     0    0       0      0     0         0      0     0    0   \n",
              "29997     0    0     0    0       0      0     0         0      0     0    0   \n",
              "29998     0    0     0    0       0      0     0         0      0     1    0   \n",
              "29999     0    0     0    0       0      0     0         0      2     0    0   \n",
              "\n",
              "       church  jesus  bible  hair  dress  blonde  mall  shopping  clothes  \\\n",
              "29995       0      0      0     0      0       0     0         0        0   \n",
              "29996       0      0      0     0      0       0     0         0        0   \n",
              "29997       0      0      0     0      0       0     0         0        0   \n",
              "29998       0      0      0     0      0       0     0         0        0   \n",
              "29999       0      0      0     0      0       0     0         0        0   \n",
              "\n",
              "       hollister  abercrombie  die  death  drunk  drugs  \n",
              "29995          0            0    0      0      0      0  \n",
              "29996          0            0    0      0      0      0  \n",
              "29997          0            0    0      0      0      0  \n",
              "29998          0            0    0      0      0      0  \n",
              "29999          0            0    0      0      0      0  "
            ]
          },
          "metadata": {
            "tags": []
          },
          "execution_count": 6
        }
      ]
    },
    {
      "cell_type": "code",
      "metadata": {
        "id": "Vk7kDXPHAg-u",
        "colab": {
          "base_uri": "https://localhost:8080/",
          "height": 1000
        },
        "outputId": "cd4bb33b-a2ce-44b4-c1bb-d82d27a4a564"
      },
      "source": [
        "data.info"
      ],
      "execution_count": null,
      "outputs": [
        {
          "output_type": "execute_result",
          "data": {
            "text/plain": [
              "<bound method DataFrame.info of        gradyear gender     age  friends  basketball  football  soccer  \\\n",
              "0          2006      M  18.982        7           0         0       0   \n",
              "1          2006      F  18.801        0           0         1       0   \n",
              "2          2006      M  18.335       69           0         1       0   \n",
              "3          2006      F  18.875        0           0         0       0   \n",
              "4          2006    NaN  18.995       10           0         0       0   \n",
              "...         ...    ...     ...      ...         ...       ...     ...   \n",
              "29995      2009      M  16.115        0           0         0       0   \n",
              "29996      2009      M  15.792        1           0         1       0   \n",
              "29997      2009      M  15.784        0           0         1       0   \n",
              "29998      2009      M  16.378        0           0         0       0   \n",
              "29999      2009      F  18.724        3           2         0       0   \n",
              "\n",
              "       softball  volleyball  swimming  cheerleading  baseball  tennis  sports  \\\n",
              "0             0           0         0             0         0       0       0   \n",
              "1             0           0         0             0         0       0       0   \n",
              "2             0           0         0             0         0       0       0   \n",
              "3             0           0         0             0         0       0       0   \n",
              "4             0           0         0             0         0       0       0   \n",
              "...         ...         ...       ...           ...       ...     ...     ...   \n",
              "29995         0           0         0             0         0       0       0   \n",
              "29996         0           0         0             0         0       0       0   \n",
              "29997         0           0         0             0         1       0       0   \n",
              "29998         0           0         0             0         0       0       0   \n",
              "29999         1           0         0             0         0       0       0   \n",
              "\n",
              "       cute  sex  sexy  hot  kissed  dance  band  marching  music  rock  god  \\\n",
              "0         0    0     0    0       0      1     0         0      0     0    0   \n",
              "1         1    0     0    0       0      0     0         0      2     2    1   \n",
              "2         0    0     0    0       0      0     2         0      1     0    0   \n",
              "3         1    0     0    0       0      0     0         0      0     1    0   \n",
              "4         0    1     0    0       5      1     1         0      3     0    1   \n",
              "...     ...  ...   ...  ...     ...    ...   ...       ...    ...   ...  ...   \n",
              "29995     0    0     0    0       0      0     0         0      0     0    0   \n",
              "29996     0    0     0    0       0      0     0         0      0     0    0   \n",
              "29997     0    0     0    0       0      0     0         0      0     0    0   \n",
              "29998     0    0     0    0       0      0     0         0      0     1    0   \n",
              "29999     0    0     0    0       0      0     0         0      2     0    0   \n",
              "\n",
              "       church  jesus  bible  hair  dress  blonde  mall  shopping  clothes  \\\n",
              "0           0      0      0     0      0       0     0         0        0   \n",
              "1           0      0      0     6      4       0     1         0        0   \n",
              "2           0      0      0     0      0       0     0         0        0   \n",
              "3           0      0      0     0      0       0     0         0        0   \n",
              "4           0      0      0     1      0       0     0         2        0   \n",
              "...       ...    ...    ...   ...    ...     ...   ...       ...      ...   \n",
              "29995       0      0      0     0      0       0     0         0        0   \n",
              "29996       0      0      0     0      0       0     0         0        0   \n",
              "29997       0      0      0     0      0       0     0         0        0   \n",
              "29998       0      0      0     0      0       0     0         0        0   \n",
              "29999       0      0      0     0      0       0     0         0        0   \n",
              "\n",
              "       hollister  abercrombie  die  death  drunk  drugs  \n",
              "0              0            0    0      0      0      0  \n",
              "1              0            0    0      0      0      0  \n",
              "2              0            0    0      1      0      0  \n",
              "3              0            0    0      0      0      0  \n",
              "4              0            0    0      0      1      1  \n",
              "...          ...          ...  ...    ...    ...    ...  \n",
              "29995          0            0    0      0      0      0  \n",
              "29996          0            0    0      0      0      0  \n",
              "29997          0            0    0      0      0      0  \n",
              "29998          0            0    0      0      0      0  \n",
              "29999          0            0    0      0      0      0  \n",
              "\n",
              "[30000 rows x 40 columns]>"
            ]
          },
          "metadata": {
            "tags": []
          },
          "execution_count": 8
        }
      ]
    },
    {
      "cell_type": "code",
      "metadata": {
        "id": "VFPxAaqZAo8c",
        "colab": {
          "base_uri": "https://localhost:8080/",
          "height": 706
        },
        "outputId": "14134a1e-8892-4ced-d767-cfef98c8a54a"
      },
      "source": [
        "data.dtypes"
      ],
      "execution_count": null,
      "outputs": [
        {
          "output_type": "execute_result",
          "data": {
            "text/plain": [
              "gradyear          int64\n",
              "gender           object\n",
              "age             float64\n",
              "friends           int64\n",
              "basketball        int64\n",
              "football          int64\n",
              "soccer            int64\n",
              "softball          int64\n",
              "volleyball        int64\n",
              "swimming          int64\n",
              "cheerleading      int64\n",
              "baseball          int64\n",
              "tennis            int64\n",
              "sports            int64\n",
              "cute              int64\n",
              "sex               int64\n",
              "sexy              int64\n",
              "hot               int64\n",
              "kissed            int64\n",
              "dance             int64\n",
              "band              int64\n",
              "marching          int64\n",
              "music             int64\n",
              "rock              int64\n",
              "god               int64\n",
              "church            int64\n",
              "jesus             int64\n",
              "bible             int64\n",
              "hair              int64\n",
              "dress             int64\n",
              "blonde            int64\n",
              "mall              int64\n",
              "shopping          int64\n",
              "clothes           int64\n",
              "hollister         int64\n",
              "abercrombie       int64\n",
              "die               int64\n",
              "death             int64\n",
              "drunk             int64\n",
              "drugs             int64\n",
              "dtype: object"
            ]
          },
          "metadata": {
            "tags": []
          },
          "execution_count": 9
        }
      ]
    },
    {
      "cell_type": "markdown",
      "metadata": {
        "id": "ZR1rYn1r_FK_"
      },
      "source": [
        "## Summary Statistics"
      ]
    },
    {
      "cell_type": "markdown",
      "metadata": {
        "id": "CAZIPJK6_FLB"
      },
      "source": [
        "### Summary Statistics of Numerical Variables"
      ]
    },
    {
      "cell_type": "code",
      "metadata": {
        "scrolled": true,
        "id": "5aAGgn4-_FLC",
        "colab": {
          "base_uri": "https://localhost:8080/",
          "height": 304
        },
        "outputId": "584fd336-e444-412d-bad4-40d7c65b6fd0"
      },
      "source": [
        "data.describe()"
      ],
      "execution_count": null,
      "outputs": [
        {
          "output_type": "execute_result",
          "data": {
            "text/html": [
              "<div>\n",
              "<style scoped>\n",
              "    .dataframe tbody tr th:only-of-type {\n",
              "        vertical-align: middle;\n",
              "    }\n",
              "\n",
              "    .dataframe tbody tr th {\n",
              "        vertical-align: top;\n",
              "    }\n",
              "\n",
              "    .dataframe thead th {\n",
              "        text-align: right;\n",
              "    }\n",
              "</style>\n",
              "<table border=\"1\" class=\"dataframe\">\n",
              "  <thead>\n",
              "    <tr style=\"text-align: right;\">\n",
              "      <th></th>\n",
              "      <th>gradyear</th>\n",
              "      <th>age</th>\n",
              "      <th>friends</th>\n",
              "      <th>basketball</th>\n",
              "      <th>football</th>\n",
              "      <th>soccer</th>\n",
              "      <th>softball</th>\n",
              "      <th>volleyball</th>\n",
              "      <th>swimming</th>\n",
              "      <th>cheerleading</th>\n",
              "      <th>baseball</th>\n",
              "      <th>tennis</th>\n",
              "      <th>sports</th>\n",
              "      <th>cute</th>\n",
              "      <th>sex</th>\n",
              "      <th>sexy</th>\n",
              "      <th>hot</th>\n",
              "      <th>kissed</th>\n",
              "      <th>dance</th>\n",
              "      <th>band</th>\n",
              "      <th>marching</th>\n",
              "      <th>music</th>\n",
              "      <th>rock</th>\n",
              "      <th>god</th>\n",
              "      <th>church</th>\n",
              "      <th>jesus</th>\n",
              "      <th>bible</th>\n",
              "      <th>hair</th>\n",
              "      <th>dress</th>\n",
              "      <th>blonde</th>\n",
              "      <th>mall</th>\n",
              "      <th>shopping</th>\n",
              "      <th>clothes</th>\n",
              "      <th>hollister</th>\n",
              "      <th>abercrombie</th>\n",
              "      <th>die</th>\n",
              "      <th>death</th>\n",
              "      <th>drunk</th>\n",
              "      <th>drugs</th>\n",
              "    </tr>\n",
              "  </thead>\n",
              "  <tbody>\n",
              "    <tr>\n",
              "      <th>count</th>\n",
              "      <td>30000.000000</td>\n",
              "      <td>24914.000000</td>\n",
              "      <td>30000.000000</td>\n",
              "      <td>30000.000000</td>\n",
              "      <td>30000.000000</td>\n",
              "      <td>30000.000000</td>\n",
              "      <td>30000.000000</td>\n",
              "      <td>30000.000000</td>\n",
              "      <td>30000.00000</td>\n",
              "      <td>30000.000000</td>\n",
              "      <td>30000.000000</td>\n",
              "      <td>30000.000000</td>\n",
              "      <td>30000.000000</td>\n",
              "      <td>30000.000000</td>\n",
              "      <td>30000.000000</td>\n",
              "      <td>30000.000000</td>\n",
              "      <td>30000.000000</td>\n",
              "      <td>30000.000000</td>\n",
              "      <td>30000.000000</td>\n",
              "      <td>30000.000000</td>\n",
              "      <td>30000.000000</td>\n",
              "      <td>30000.000000</td>\n",
              "      <td>30000.000000</td>\n",
              "      <td>30000.000000</td>\n",
              "      <td>30000.000000</td>\n",
              "      <td>30000.000000</td>\n",
              "      <td>30000.000000</td>\n",
              "      <td>30000.000000</td>\n",
              "      <td>30000.000000</td>\n",
              "      <td>30000.000000</td>\n",
              "      <td>30000.000000</td>\n",
              "      <td>30000.000000</td>\n",
              "      <td>30000.00000</td>\n",
              "      <td>30000.000000</td>\n",
              "      <td>30000.000000</td>\n",
              "      <td>30000.000000</td>\n",
              "      <td>30000.000000</td>\n",
              "      <td>30000.000000</td>\n",
              "      <td>30000.000000</td>\n",
              "    </tr>\n",
              "    <tr>\n",
              "      <th>mean</th>\n",
              "      <td>2007.500000</td>\n",
              "      <td>17.993950</td>\n",
              "      <td>30.179467</td>\n",
              "      <td>0.267333</td>\n",
              "      <td>0.252300</td>\n",
              "      <td>0.222767</td>\n",
              "      <td>0.161200</td>\n",
              "      <td>0.143133</td>\n",
              "      <td>0.13440</td>\n",
              "      <td>0.106633</td>\n",
              "      <td>0.104933</td>\n",
              "      <td>0.087333</td>\n",
              "      <td>0.139967</td>\n",
              "      <td>0.322867</td>\n",
              "      <td>0.209400</td>\n",
              "      <td>0.141200</td>\n",
              "      <td>0.126600</td>\n",
              "      <td>0.103200</td>\n",
              "      <td>0.425167</td>\n",
              "      <td>0.299600</td>\n",
              "      <td>0.040600</td>\n",
              "      <td>0.737833</td>\n",
              "      <td>0.243333</td>\n",
              "      <td>0.465300</td>\n",
              "      <td>0.248167</td>\n",
              "      <td>0.112067</td>\n",
              "      <td>0.021333</td>\n",
              "      <td>0.422567</td>\n",
              "      <td>0.110967</td>\n",
              "      <td>0.098933</td>\n",
              "      <td>0.257367</td>\n",
              "      <td>0.353000</td>\n",
              "      <td>0.14850</td>\n",
              "      <td>0.069867</td>\n",
              "      <td>0.051167</td>\n",
              "      <td>0.184100</td>\n",
              "      <td>0.114233</td>\n",
              "      <td>0.087967</td>\n",
              "      <td>0.060433</td>\n",
              "    </tr>\n",
              "    <tr>\n",
              "      <th>std</th>\n",
              "      <td>1.118053</td>\n",
              "      <td>7.858054</td>\n",
              "      <td>36.530877</td>\n",
              "      <td>0.804708</td>\n",
              "      <td>0.705357</td>\n",
              "      <td>0.917226</td>\n",
              "      <td>0.739707</td>\n",
              "      <td>0.639943</td>\n",
              "      <td>0.51699</td>\n",
              "      <td>0.514333</td>\n",
              "      <td>0.521726</td>\n",
              "      <td>0.516961</td>\n",
              "      <td>0.471080</td>\n",
              "      <td>0.802441</td>\n",
              "      <td>1.123504</td>\n",
              "      <td>0.528209</td>\n",
              "      <td>0.479145</td>\n",
              "      <td>0.509338</td>\n",
              "      <td>1.162574</td>\n",
              "      <td>1.118786</td>\n",
              "      <td>0.287091</td>\n",
              "      <td>1.252366</td>\n",
              "      <td>0.720375</td>\n",
              "      <td>1.343226</td>\n",
              "      <td>0.834028</td>\n",
              "      <td>0.581709</td>\n",
              "      <td>0.204645</td>\n",
              "      <td>1.097958</td>\n",
              "      <td>0.449436</td>\n",
              "      <td>1.942319</td>\n",
              "      <td>0.695758</td>\n",
              "      <td>0.724391</td>\n",
              "      <td>0.47264</td>\n",
              "      <td>0.346779</td>\n",
              "      <td>0.279555</td>\n",
              "      <td>0.624516</td>\n",
              "      <td>0.436796</td>\n",
              "      <td>0.399125</td>\n",
              "      <td>0.345522</td>\n",
              "    </tr>\n",
              "    <tr>\n",
              "      <th>min</th>\n",
              "      <td>2006.000000</td>\n",
              "      <td>3.086000</td>\n",
              "      <td>0.000000</td>\n",
              "      <td>0.000000</td>\n",
              "      <td>0.000000</td>\n",
              "      <td>0.000000</td>\n",
              "      <td>0.000000</td>\n",
              "      <td>0.000000</td>\n",
              "      <td>0.00000</td>\n",
              "      <td>0.000000</td>\n",
              "      <td>0.000000</td>\n",
              "      <td>0.000000</td>\n",
              "      <td>0.000000</td>\n",
              "      <td>0.000000</td>\n",
              "      <td>0.000000</td>\n",
              "      <td>0.000000</td>\n",
              "      <td>0.000000</td>\n",
              "      <td>0.000000</td>\n",
              "      <td>0.000000</td>\n",
              "      <td>0.000000</td>\n",
              "      <td>0.000000</td>\n",
              "      <td>0.000000</td>\n",
              "      <td>0.000000</td>\n",
              "      <td>0.000000</td>\n",
              "      <td>0.000000</td>\n",
              "      <td>0.000000</td>\n",
              "      <td>0.000000</td>\n",
              "      <td>0.000000</td>\n",
              "      <td>0.000000</td>\n",
              "      <td>0.000000</td>\n",
              "      <td>0.000000</td>\n",
              "      <td>0.000000</td>\n",
              "      <td>0.00000</td>\n",
              "      <td>0.000000</td>\n",
              "      <td>0.000000</td>\n",
              "      <td>0.000000</td>\n",
              "      <td>0.000000</td>\n",
              "      <td>0.000000</td>\n",
              "      <td>0.000000</td>\n",
              "    </tr>\n",
              "    <tr>\n",
              "      <th>25%</th>\n",
              "      <td>2006.750000</td>\n",
              "      <td>16.312000</td>\n",
              "      <td>3.000000</td>\n",
              "      <td>0.000000</td>\n",
              "      <td>0.000000</td>\n",
              "      <td>0.000000</td>\n",
              "      <td>0.000000</td>\n",
              "      <td>0.000000</td>\n",
              "      <td>0.00000</td>\n",
              "      <td>0.000000</td>\n",
              "      <td>0.000000</td>\n",
              "      <td>0.000000</td>\n",
              "      <td>0.000000</td>\n",
              "      <td>0.000000</td>\n",
              "      <td>0.000000</td>\n",
              "      <td>0.000000</td>\n",
              "      <td>0.000000</td>\n",
              "      <td>0.000000</td>\n",
              "      <td>0.000000</td>\n",
              "      <td>0.000000</td>\n",
              "      <td>0.000000</td>\n",
              "      <td>0.000000</td>\n",
              "      <td>0.000000</td>\n",
              "      <td>0.000000</td>\n",
              "      <td>0.000000</td>\n",
              "      <td>0.000000</td>\n",
              "      <td>0.000000</td>\n",
              "      <td>0.000000</td>\n",
              "      <td>0.000000</td>\n",
              "      <td>0.000000</td>\n",
              "      <td>0.000000</td>\n",
              "      <td>0.000000</td>\n",
              "      <td>0.00000</td>\n",
              "      <td>0.000000</td>\n",
              "      <td>0.000000</td>\n",
              "      <td>0.000000</td>\n",
              "      <td>0.000000</td>\n",
              "      <td>0.000000</td>\n",
              "      <td>0.000000</td>\n",
              "    </tr>\n",
              "    <tr>\n",
              "      <th>50%</th>\n",
              "      <td>2007.500000</td>\n",
              "      <td>17.287000</td>\n",
              "      <td>20.000000</td>\n",
              "      <td>0.000000</td>\n",
              "      <td>0.000000</td>\n",
              "      <td>0.000000</td>\n",
              "      <td>0.000000</td>\n",
              "      <td>0.000000</td>\n",
              "      <td>0.00000</td>\n",
              "      <td>0.000000</td>\n",
              "      <td>0.000000</td>\n",
              "      <td>0.000000</td>\n",
              "      <td>0.000000</td>\n",
              "      <td>0.000000</td>\n",
              "      <td>0.000000</td>\n",
              "      <td>0.000000</td>\n",
              "      <td>0.000000</td>\n",
              "      <td>0.000000</td>\n",
              "      <td>0.000000</td>\n",
              "      <td>0.000000</td>\n",
              "      <td>0.000000</td>\n",
              "      <td>0.000000</td>\n",
              "      <td>0.000000</td>\n",
              "      <td>0.000000</td>\n",
              "      <td>0.000000</td>\n",
              "      <td>0.000000</td>\n",
              "      <td>0.000000</td>\n",
              "      <td>0.000000</td>\n",
              "      <td>0.000000</td>\n",
              "      <td>0.000000</td>\n",
              "      <td>0.000000</td>\n",
              "      <td>0.000000</td>\n",
              "      <td>0.00000</td>\n",
              "      <td>0.000000</td>\n",
              "      <td>0.000000</td>\n",
              "      <td>0.000000</td>\n",
              "      <td>0.000000</td>\n",
              "      <td>0.000000</td>\n",
              "      <td>0.000000</td>\n",
              "    </tr>\n",
              "    <tr>\n",
              "      <th>75%</th>\n",
              "      <td>2008.250000</td>\n",
              "      <td>18.259000</td>\n",
              "      <td>44.000000</td>\n",
              "      <td>0.000000</td>\n",
              "      <td>0.000000</td>\n",
              "      <td>0.000000</td>\n",
              "      <td>0.000000</td>\n",
              "      <td>0.000000</td>\n",
              "      <td>0.00000</td>\n",
              "      <td>0.000000</td>\n",
              "      <td>0.000000</td>\n",
              "      <td>0.000000</td>\n",
              "      <td>0.000000</td>\n",
              "      <td>0.000000</td>\n",
              "      <td>0.000000</td>\n",
              "      <td>0.000000</td>\n",
              "      <td>0.000000</td>\n",
              "      <td>0.000000</td>\n",
              "      <td>0.000000</td>\n",
              "      <td>0.000000</td>\n",
              "      <td>0.000000</td>\n",
              "      <td>1.000000</td>\n",
              "      <td>0.000000</td>\n",
              "      <td>1.000000</td>\n",
              "      <td>0.000000</td>\n",
              "      <td>0.000000</td>\n",
              "      <td>0.000000</td>\n",
              "      <td>0.000000</td>\n",
              "      <td>0.000000</td>\n",
              "      <td>0.000000</td>\n",
              "      <td>0.000000</td>\n",
              "      <td>1.000000</td>\n",
              "      <td>0.00000</td>\n",
              "      <td>0.000000</td>\n",
              "      <td>0.000000</td>\n",
              "      <td>0.000000</td>\n",
              "      <td>0.000000</td>\n",
              "      <td>0.000000</td>\n",
              "      <td>0.000000</td>\n",
              "    </tr>\n",
              "    <tr>\n",
              "      <th>max</th>\n",
              "      <td>2009.000000</td>\n",
              "      <td>106.927000</td>\n",
              "      <td>830.000000</td>\n",
              "      <td>24.000000</td>\n",
              "      <td>15.000000</td>\n",
              "      <td>27.000000</td>\n",
              "      <td>17.000000</td>\n",
              "      <td>14.000000</td>\n",
              "      <td>31.00000</td>\n",
              "      <td>9.000000</td>\n",
              "      <td>16.000000</td>\n",
              "      <td>15.000000</td>\n",
              "      <td>12.000000</td>\n",
              "      <td>18.000000</td>\n",
              "      <td>114.000000</td>\n",
              "      <td>18.000000</td>\n",
              "      <td>10.000000</td>\n",
              "      <td>26.000000</td>\n",
              "      <td>30.000000</td>\n",
              "      <td>66.000000</td>\n",
              "      <td>11.000000</td>\n",
              "      <td>64.000000</td>\n",
              "      <td>21.000000</td>\n",
              "      <td>79.000000</td>\n",
              "      <td>44.000000</td>\n",
              "      <td>30.000000</td>\n",
              "      <td>11.000000</td>\n",
              "      <td>37.000000</td>\n",
              "      <td>9.000000</td>\n",
              "      <td>327.000000</td>\n",
              "      <td>12.000000</td>\n",
              "      <td>11.000000</td>\n",
              "      <td>8.00000</td>\n",
              "      <td>9.000000</td>\n",
              "      <td>8.000000</td>\n",
              "      <td>22.000000</td>\n",
              "      <td>14.000000</td>\n",
              "      <td>8.000000</td>\n",
              "      <td>16.000000</td>\n",
              "    </tr>\n",
              "  </tbody>\n",
              "</table>\n",
              "</div>"
            ],
            "text/plain": [
              "           gradyear           age       friends    basketball      football  \\\n",
              "count  30000.000000  24914.000000  30000.000000  30000.000000  30000.000000   \n",
              "mean    2007.500000     17.993950     30.179467      0.267333      0.252300   \n",
              "std        1.118053      7.858054     36.530877      0.804708      0.705357   \n",
              "min     2006.000000      3.086000      0.000000      0.000000      0.000000   \n",
              "25%     2006.750000     16.312000      3.000000      0.000000      0.000000   \n",
              "50%     2007.500000     17.287000     20.000000      0.000000      0.000000   \n",
              "75%     2008.250000     18.259000     44.000000      0.000000      0.000000   \n",
              "max     2009.000000    106.927000    830.000000     24.000000     15.000000   \n",
              "\n",
              "             soccer      softball    volleyball     swimming  cheerleading  \\\n",
              "count  30000.000000  30000.000000  30000.000000  30000.00000  30000.000000   \n",
              "mean       0.222767      0.161200      0.143133      0.13440      0.106633   \n",
              "std        0.917226      0.739707      0.639943      0.51699      0.514333   \n",
              "min        0.000000      0.000000      0.000000      0.00000      0.000000   \n",
              "25%        0.000000      0.000000      0.000000      0.00000      0.000000   \n",
              "50%        0.000000      0.000000      0.000000      0.00000      0.000000   \n",
              "75%        0.000000      0.000000      0.000000      0.00000      0.000000   \n",
              "max       27.000000     17.000000     14.000000     31.00000      9.000000   \n",
              "\n",
              "           baseball        tennis        sports          cute           sex  \\\n",
              "count  30000.000000  30000.000000  30000.000000  30000.000000  30000.000000   \n",
              "mean       0.104933      0.087333      0.139967      0.322867      0.209400   \n",
              "std        0.521726      0.516961      0.471080      0.802441      1.123504   \n",
              "min        0.000000      0.000000      0.000000      0.000000      0.000000   \n",
              "25%        0.000000      0.000000      0.000000      0.000000      0.000000   \n",
              "50%        0.000000      0.000000      0.000000      0.000000      0.000000   \n",
              "75%        0.000000      0.000000      0.000000      0.000000      0.000000   \n",
              "max       16.000000     15.000000     12.000000     18.000000    114.000000   \n",
              "\n",
              "               sexy           hot        kissed         dance          band  \\\n",
              "count  30000.000000  30000.000000  30000.000000  30000.000000  30000.000000   \n",
              "mean       0.141200      0.126600      0.103200      0.425167      0.299600   \n",
              "std        0.528209      0.479145      0.509338      1.162574      1.118786   \n",
              "min        0.000000      0.000000      0.000000      0.000000      0.000000   \n",
              "25%        0.000000      0.000000      0.000000      0.000000      0.000000   \n",
              "50%        0.000000      0.000000      0.000000      0.000000      0.000000   \n",
              "75%        0.000000      0.000000      0.000000      0.000000      0.000000   \n",
              "max       18.000000     10.000000     26.000000     30.000000     66.000000   \n",
              "\n",
              "           marching         music          rock           god        church  \\\n",
              "count  30000.000000  30000.000000  30000.000000  30000.000000  30000.000000   \n",
              "mean       0.040600      0.737833      0.243333      0.465300      0.248167   \n",
              "std        0.287091      1.252366      0.720375      1.343226      0.834028   \n",
              "min        0.000000      0.000000      0.000000      0.000000      0.000000   \n",
              "25%        0.000000      0.000000      0.000000      0.000000      0.000000   \n",
              "50%        0.000000      0.000000      0.000000      0.000000      0.000000   \n",
              "75%        0.000000      1.000000      0.000000      1.000000      0.000000   \n",
              "max       11.000000     64.000000     21.000000     79.000000     44.000000   \n",
              "\n",
              "              jesus         bible          hair         dress        blonde  \\\n",
              "count  30000.000000  30000.000000  30000.000000  30000.000000  30000.000000   \n",
              "mean       0.112067      0.021333      0.422567      0.110967      0.098933   \n",
              "std        0.581709      0.204645      1.097958      0.449436      1.942319   \n",
              "min        0.000000      0.000000      0.000000      0.000000      0.000000   \n",
              "25%        0.000000      0.000000      0.000000      0.000000      0.000000   \n",
              "50%        0.000000      0.000000      0.000000      0.000000      0.000000   \n",
              "75%        0.000000      0.000000      0.000000      0.000000      0.000000   \n",
              "max       30.000000     11.000000     37.000000      9.000000    327.000000   \n",
              "\n",
              "               mall      shopping      clothes     hollister   abercrombie  \\\n",
              "count  30000.000000  30000.000000  30000.00000  30000.000000  30000.000000   \n",
              "mean       0.257367      0.353000      0.14850      0.069867      0.051167   \n",
              "std        0.695758      0.724391      0.47264      0.346779      0.279555   \n",
              "min        0.000000      0.000000      0.00000      0.000000      0.000000   \n",
              "25%        0.000000      0.000000      0.00000      0.000000      0.000000   \n",
              "50%        0.000000      0.000000      0.00000      0.000000      0.000000   \n",
              "75%        0.000000      1.000000      0.00000      0.000000      0.000000   \n",
              "max       12.000000     11.000000      8.00000      9.000000      8.000000   \n",
              "\n",
              "                die         death         drunk         drugs  \n",
              "count  30000.000000  30000.000000  30000.000000  30000.000000  \n",
              "mean       0.184100      0.114233      0.087967      0.060433  \n",
              "std        0.624516      0.436796      0.399125      0.345522  \n",
              "min        0.000000      0.000000      0.000000      0.000000  \n",
              "25%        0.000000      0.000000      0.000000      0.000000  \n",
              "50%        0.000000      0.000000      0.000000      0.000000  \n",
              "75%        0.000000      0.000000      0.000000      0.000000  \n",
              "max       22.000000     14.000000      8.000000     16.000000  "
            ]
          },
          "metadata": {
            "tags": []
          },
          "execution_count": 5
        }
      ]
    },
    {
      "cell_type": "code",
      "metadata": {
        "id": "hyYAwN98_FLG"
      },
      "source": [
        ""
      ],
      "execution_count": null,
      "outputs": []
    },
    {
      "cell_type": "markdown",
      "metadata": {
        "id": "L0-xMGqL_FLM"
      },
      "source": [
        "### Summary Statistics of Categorical Variables"
      ]
    },
    {
      "cell_type": "code",
      "metadata": {
        "id": "hTKwCOWL_FLN",
        "colab": {
          "base_uri": "https://localhost:8080/",
          "height": 166
        },
        "outputId": "35754c8e-851d-49dd-a2ad-c4653a9b072b"
      },
      "source": [
        "data.describe(include='object')"
      ],
      "execution_count": null,
      "outputs": [
        {
          "output_type": "execute_result",
          "data": {
            "text/html": [
              "<div>\n",
              "<style scoped>\n",
              "    .dataframe tbody tr th:only-of-type {\n",
              "        vertical-align: middle;\n",
              "    }\n",
              "\n",
              "    .dataframe tbody tr th {\n",
              "        vertical-align: top;\n",
              "    }\n",
              "\n",
              "    .dataframe thead th {\n",
              "        text-align: right;\n",
              "    }\n",
              "</style>\n",
              "<table border=\"1\" class=\"dataframe\">\n",
              "  <thead>\n",
              "    <tr style=\"text-align: right;\">\n",
              "      <th></th>\n",
              "      <th>gender</th>\n",
              "    </tr>\n",
              "  </thead>\n",
              "  <tbody>\n",
              "    <tr>\n",
              "      <th>count</th>\n",
              "      <td>27276</td>\n",
              "    </tr>\n",
              "    <tr>\n",
              "      <th>unique</th>\n",
              "      <td>2</td>\n",
              "    </tr>\n",
              "    <tr>\n",
              "      <th>top</th>\n",
              "      <td>F</td>\n",
              "    </tr>\n",
              "    <tr>\n",
              "      <th>freq</th>\n",
              "      <td>22054</td>\n",
              "    </tr>\n",
              "  </tbody>\n",
              "</table>\n",
              "</div>"
            ],
            "text/plain": [
              "       gender\n",
              "count   27276\n",
              "unique      2\n",
              "top         F\n",
              "freq    22054"
            ]
          },
          "metadata": {
            "tags": []
          },
          "execution_count": 7
        }
      ]
    },
    {
      "cell_type": "markdown",
      "metadata": {
        "id": "f-r0X0hz_FLX"
      },
      "source": [
        "## Treating Missing Values"
      ]
    },
    {
      "cell_type": "code",
      "metadata": {
        "id": "sb9D5yvl_FLZ",
        "colab": {
          "base_uri": "https://localhost:8080/",
          "height": 706
        },
        "outputId": "7504f347-00c7-4ee1-f24a-735ce40fcfcd"
      },
      "source": [
        "data.isnull().sum()"
      ],
      "execution_count": null,
      "outputs": [
        {
          "output_type": "execute_result",
          "data": {
            "text/plain": [
              "gradyear           0\n",
              "gender          2724\n",
              "age             5086\n",
              "friends            0\n",
              "basketball         0\n",
              "football           0\n",
              "soccer             0\n",
              "softball           0\n",
              "volleyball         0\n",
              "swimming           0\n",
              "cheerleading       0\n",
              "baseball           0\n",
              "tennis             0\n",
              "sports             0\n",
              "cute               0\n",
              "sex                0\n",
              "sexy               0\n",
              "hot                0\n",
              "kissed             0\n",
              "dance              0\n",
              "band               0\n",
              "marching           0\n",
              "music              0\n",
              "rock               0\n",
              "god                0\n",
              "church             0\n",
              "jesus              0\n",
              "bible              0\n",
              "hair               0\n",
              "dress              0\n",
              "blonde             0\n",
              "mall               0\n",
              "shopping           0\n",
              "clothes            0\n",
              "hollister          0\n",
              "abercrombie        0\n",
              "die                0\n",
              "death              0\n",
              "drunk              0\n",
              "drugs              0\n",
              "dtype: int64"
            ]
          },
          "metadata": {
            "tags": []
          },
          "execution_count": 11
        }
      ]
    },
    {
      "cell_type": "markdown",
      "metadata": {
        "id": "BIadEvOU_FLg"
      },
      "source": [
        "A total of 5,086 records have missing ages. Also concerning is the fact that the minimum and maximum values seem to be unreasonable; it is unlikely that a 3 year old or a 106 year old is attending high school."
      ]
    },
    {
      "cell_type": "markdown",
      "metadata": {
        "id": "0k9v8imS_FLi"
      },
      "source": [
        "Let's have a look at the number of male and female candidates in our dataset"
      ]
    },
    {
      "cell_type": "code",
      "metadata": {
        "id": "T7kOX_nZ_FLn",
        "colab": {
          "base_uri": "https://localhost:8080/",
          "height": 67
        },
        "outputId": "23971c1e-f7bd-4bf9-bc91-22f37aaab7d6"
      },
      "source": [
        "data['gender'].value_counts()"
      ],
      "execution_count": null,
      "outputs": [
        {
          "output_type": "execute_result",
          "data": {
            "text/plain": [
              "F    22054\n",
              "M     5222\n",
              "Name: gender, dtype: int64"
            ]
          },
          "metadata": {
            "tags": []
          },
          "execution_count": 13
        }
      ]
    },
    {
      "cell_type": "markdown",
      "metadata": {
        "id": "2nDGU7l6_FLs"
      },
      "source": [
        " Let's have a look at the number of male, female and msiing values "
      ]
    },
    {
      "cell_type": "code",
      "metadata": {
        "id": "1aveXo60_FLt",
        "colab": {
          "base_uri": "https://localhost:8080/",
          "height": 84
        },
        "outputId": "551f5135-c70b-4104-9d93-7047a8abd085"
      },
      "source": [
        "data['gender'].value_counts(dropna = False)"
      ],
      "execution_count": null,
      "outputs": [
        {
          "output_type": "execute_result",
          "data": {
            "text/plain": [
              "F      22054\n",
              "M       5222\n",
              "NaN     2724\n",
              "Name: gender, dtype: int64"
            ]
          },
          "metadata": {
            "tags": []
          },
          "execution_count": 14
        }
      ]
    },
    {
      "cell_type": "markdown",
      "metadata": {
        "id": "uUM23AM4_FLz"
      },
      "source": [
        "There are 22054 female, 5222 male teen students and 2724 missing values"
      ]
    },
    {
      "cell_type": "markdown",
      "metadata": {
        "id": "J-ilLvlu_FLz"
      },
      "source": [
        "Now we are going to fill all the null values in gender column with “No Gender”"
      ]
    },
    {
      "cell_type": "code",
      "metadata": {
        "id": "quen_O_L_FL0"
      },
      "source": [
        "data['gender'].fillna('not disclosed', inplace = True)"
      ],
      "execution_count": null,
      "outputs": []
    },
    {
      "cell_type": "code",
      "metadata": {
        "id": "XH4AlKF8_FL-",
        "colab": {
          "base_uri": "https://localhost:8080/",
          "height": 34
        },
        "outputId": "a826a8c7-5660-449f-f2bd-f94dcf535935"
      },
      "source": [
        "data['gender'].isnull().sum()"
      ],
      "execution_count": null,
      "outputs": [
        {
          "output_type": "execute_result",
          "data": {
            "text/plain": [
              "0"
            ]
          },
          "metadata": {
            "tags": []
          },
          "execution_count": 16
        }
      ]
    },
    {
      "cell_type": "markdown",
      "metadata": {
        "id": "NkS83opx_FMH"
      },
      "source": [
        "Also, the age cloumn has 5086 missing values. One way to deal with these missing values would be to fill the missing values with the average age of each graduation year"
      ]
    },
    {
      "cell_type": "code",
      "metadata": {
        "id": "7shYr6Yq_FMI",
        "colab": {
          "base_uri": "https://localhost:8080/",
          "height": 124
        },
        "outputId": "f141af9b-b216-41c3-e6f4-8f5a79c41303"
      },
      "source": [
        "data.groupby('gradyear')['age'].mean()"
      ],
      "execution_count": null,
      "outputs": [
        {
          "output_type": "execute_result",
          "data": {
            "text/plain": [
              "gradyear\n",
              "2006    19.137241\n",
              "2007    18.391459\n",
              "2008    17.523867\n",
              "2009    16.876025\n",
              "Name: age, dtype: float64"
            ]
          },
          "metadata": {
            "tags": []
          },
          "execution_count": 17
        }
      ]
    },
    {
      "cell_type": "markdown",
      "metadata": {
        "id": "lw6bLapS_FML"
      },
      "source": [
        "From the above summary we can observe that the mean age differs by roughly one year per change in graduation year. This is not at all surprising, but a helpful finding for confirming our data is reasonable"
      ]
    },
    {
      "cell_type": "markdown",
      "metadata": {
        "id": "H8xESrTJ_FMM"
      },
      "source": [
        "We now fill the missing values for each graduation year with the mean that we got as above"
      ]
    },
    {
      "cell_type": "code",
      "metadata": {
        "id": "q9Tn49Pm_FMN"
      },
      "source": [
        "data['age'] = data.groupby('gradyear').transform(lambda x : x.fillna(x.mean()))"
      ],
      "execution_count": null,
      "outputs": []
    },
    {
      "cell_type": "code",
      "metadata": {
        "id": "oisGj9cv_FMT",
        "colab": {
          "base_uri": "https://localhost:8080/",
          "height": 35
        },
        "outputId": "98325486-460a-4870-f6ba-ed3f4b412adf"
      },
      "source": [
        "data['age'].isnull().sum()"
      ],
      "execution_count": null,
      "outputs": [
        {
          "output_type": "execute_result",
          "data": {
            "text/plain": [
              "0"
            ]
          },
          "metadata": {
            "tags": []
          },
          "execution_count": 19
        }
      ]
    },
    {
      "cell_type": "markdown",
      "metadata": {
        "id": "0neJQ85N_FMZ"
      },
      "source": [
        "We don't have any missing values in the 'age' column"
      ]
    },
    {
      "cell_type": "code",
      "metadata": {
        "id": "Qs3mE1T3_FMa",
        "colab": {
          "base_uri": "https://localhost:8080/",
          "height": 746
        },
        "outputId": "f8136f4d-8aff-4572-a608-d261b814d3a0"
      },
      "source": [
        "data.isnull().sum()"
      ],
      "execution_count": null,
      "outputs": [
        {
          "output_type": "execute_result",
          "data": {
            "text/plain": [
              "gradyear        0\n",
              "gender          0\n",
              "age             0\n",
              "friends         0\n",
              "basketball      0\n",
              "football        0\n",
              "soccer          0\n",
              "softball        0\n",
              "volleyball      0\n",
              "swimming        0\n",
              "cheerleading    0\n",
              "baseball        0\n",
              "tennis          0\n",
              "sports          0\n",
              "cute            0\n",
              "sex             0\n",
              "sexy            0\n",
              "hot             0\n",
              "kissed          0\n",
              "dance           0\n",
              "band            0\n",
              "marching        0\n",
              "music           0\n",
              "rock            0\n",
              "god             0\n",
              "church          0\n",
              "jesus           0\n",
              "bible           0\n",
              "hair            0\n",
              "dress           0\n",
              "blonde          0\n",
              "mall            0\n",
              "shopping        0\n",
              "clothes         0\n",
              "hollister       0\n",
              "abercrombie     0\n",
              "die             0\n",
              "death           0\n",
              "drunk           0\n",
              "drugs           0\n",
              "dtype: int64"
            ]
          },
          "metadata": {
            "tags": []
          },
          "execution_count": 20
        }
      ]
    },
    {
      "cell_type": "markdown",
      "metadata": {
        "id": "LL-hhceN_FMg"
      },
      "source": [
        "From the above summary we can see that there are no missing values in the dataset"
      ]
    },
    {
      "cell_type": "markdown",
      "metadata": {
        "id": "SIig3dyr_FMh"
      },
      "source": [
        "## Treating Outliers"
      ]
    },
    {
      "cell_type": "markdown",
      "metadata": {
        "id": "e5QYrjyU_FMi"
      },
      "source": [
        "The original age range contains value from 3 - 106, which is unrealistic because student at age of 3 or 106 would not attend high school. A reasonable age range for people attending high school will be the age range between 13 to 21. The rest should be treated as outliers keeping the age of student going to high school in mind. Let's detect the outliers using a box plot below"
      ]
    },
    {
      "cell_type": "code",
      "metadata": {
        "id": "bYkdtEs7_FMj",
        "colab": {
          "base_uri": "https://localhost:8080/",
          "height": 297
        },
        "outputId": "22dd23ca-b88e-48db-9544-60f6d5d07ed5"
      },
      "source": [
        "sns.boxplot(data['age'])"
      ],
      "execution_count": null,
      "outputs": [
        {
          "output_type": "execute_result",
          "data": {
            "text/plain": [
              "<matplotlib.axes._subplots.AxesSubplot at 0x7fbdd16bdc88>"
            ]
          },
          "metadata": {
            "tags": []
          },
          "execution_count": 21
        },
        {
          "output_type": "display_data",
          "data": {
            "image/png": "[encoded data removed]",
            "text/plain": [
              "<Figure size 432x288 with 1 Axes>"
            ]
          },
          "metadata": {
            "tags": [],
            "needs_background": "light"
          }
        }
      ]
    },
    {
      "cell_type": "code",
      "metadata": {
        "id": "B1KhwCSm_FMn"
      },
      "source": [
        "q1 = data['age'].quantile(0.25)\n",
        "q3 = data['age'].quantile(0.75)\n",
        "iqr = q3-q1"
      ],
      "execution_count": null,
      "outputs": []
    },
    {
      "cell_type": "code",
      "metadata": {
        "id": "ms94c6Vn_FMr",
        "colab": {
          "base_uri": "https://localhost:8080/",
          "height": 35
        },
        "outputId": "5c610dc7-8ba9-46e2-8f63-43f905d569e9"
      },
      "source": [
        "print(iqr)"
      ],
      "execution_count": null,
      "outputs": [
        {
          "output_type": "stream",
          "text": [
            "1.887459224069687\n"
          ],
          "name": "stdout"
        }
      ]
    },
    {
      "cell_type": "code",
      "metadata": {
        "id": "qcRI_XOJ_FMv"
      },
      "source": [
        "df = data[(data['age'] > (q1 - 1.5*iqr)) & (data['age'] < (q3 + 1.5*iqr))]"
      ],
      "execution_count": null,
      "outputs": []
    },
    {
      "cell_type": "code",
      "metadata": {
        "id": "Rfvvl5Kk_FMz",
        "colab": {
          "base_uri": "https://localhost:8080/",
          "height": 177
        },
        "outputId": "a66a086c-d258-4909-8506-1dca73348b99"
      },
      "source": [
        "df['age'].describe()"
      ],
      "execution_count": null,
      "outputs": [
        {
          "output_type": "execute_result",
          "data": {
            "text/plain": [
              "count    29633.000000\n",
              "mean        17.377469\n",
              "std          1.147764\n",
              "min         13.719000\n",
              "25%         16.501000\n",
              "50%         17.426000\n",
              "75%         18.387000\n",
              "max         21.158000\n",
              "Name: age, dtype: float64"
            ]
          },
          "metadata": {
            "tags": []
          },
          "execution_count": 25
        }
      ]
    },
    {
      "cell_type": "markdown",
      "metadata": {
        "id": "xqPajy7g_FM4"
      },
      "source": [
        "From the above summary we can observe that after treating the outliers the mininmum age is 13.719000 and the maximum age is 21.158000"
      ]
    },
    {
      "cell_type": "code",
      "metadata": {
        "id": "3Dd9q8oO_FM5",
        "colab": {
          "base_uri": "https://localhost:8080/",
          "height": 35
        },
        "outputId": "63d0e5b2-d50f-4ba4-9459-de89eafb05d5"
      },
      "source": [
        "df.shape"
      ],
      "execution_count": null,
      "outputs": [
        {
          "output_type": "execute_result",
          "data": {
            "text/plain": [
              "(29633, 40)"
            ]
          },
          "metadata": {
            "tags": []
          },
          "execution_count": 26
        }
      ]
    },
    {
      "cell_type": "code",
      "metadata": {
        "id": "5xFcxnGc_FM9",
        "colab": {
          "base_uri": "https://localhost:8080/",
          "height": 297
        },
        "outputId": "93847138-0313-40ec-9e57-3b3e1f4b6e3a"
      },
      "source": [
        "sns.boxplot(df['age'])"
      ],
      "execution_count": null,
      "outputs": [
        {
          "output_type": "execute_result",
          "data": {
            "text/plain": [
              "<matplotlib.axes._subplots.AxesSubplot at 0x7fbdd1586fd0>"
            ]
          },
          "metadata": {
            "tags": []
          },
          "execution_count": 27
        },
        {
          "output_type": "display_data",
          "data": {
            "image/png": "[encoded data removed]",
            "text/plain": [
              "<Figure size 432x288 with 1 Axes>"
            ]
          },
          "metadata": {
            "tags": [],
            "needs_background": "light"
          }
        }
      ]
    },
    {
      "cell_type": "markdown",
      "metadata": {
        "id": "uDd9O3LT_FNE"
      },
      "source": [
        "From the above boxplot we observe that there are no outliers in the age column"
      ]
    },
    {
      "cell_type": "markdown",
      "metadata": {
        "id": "08sghQPO_FNF"
      },
      "source": [
        "## Data Preprocessing"
      ]
    },
    {
      "cell_type": "markdown",
      "metadata": {
        "id": "Ti7-ssuW_FNG"
      },
      "source": [
        "A common practice employed prior to any analysis using distance calculations is to normalize or z-score standardize the features so that each utilizes the same range. By doing so, you can avoid a problem in which some features come to dominate solely because they have a larger range of values than the others.\n",
        "<br>The process of z-score standardization rescales features so that they have a mean of zero and a standard deviation of one. This transformation changes the interpretation of the data in a way that may be useful here. Specifically, if someone mentions Swimming three times on their profile, without additional information, we have no idea whether this implies they like Swimming more or less than their peers. On the other hand, if the z-score is three, we know that that they mentioned Swimming many more times than the average teenager."
      ]
    },
    {
      "cell_type": "code",
      "metadata": {
        "id": "-TipmZc4_FNH",
        "colab": {
          "base_uri": "https://localhost:8080/",
          "height": 141
        },
        "outputId": "c6efd8fc-0f14-41a1-eea9-7aeb31145b3e"
      },
      "source": [
        "names = df.columns[5:40]\n",
        "scaled_feature = data.copy()\n",
        "names"
      ],
      "execution_count": null,
      "outputs": [
        {
          "output_type": "execute_result",
          "data": {
            "text/plain": [
              "Index(['football', 'soccer', 'softball', 'volleyball', 'swimming',\n",
              "       'cheerleading', 'baseball', 'tennis', 'sports', 'cute', 'sex', 'sexy',\n",
              "       'hot', 'kissed', 'dance', 'band', 'marching', 'music', 'rock', 'god',\n",
              "       'church', 'jesus', 'bible', 'hair', 'dress', 'blonde', 'mall',\n",
              "       'shopping', 'clothes', 'hollister', 'abercrombie', 'die', 'death',\n",
              "       'drunk', 'drugs'],\n",
              "      dtype='object')"
            ]
          },
          "metadata": {
            "tags": []
          },
          "execution_count": 30
        }
      ]
    },
    {
      "cell_type": "code",
      "metadata": {
        "id": "3X41FgNb_FNM"
      },
      "source": [
        "features = scaled_feature[names]"
      ],
      "execution_count": null,
      "outputs": []
    },
    {
      "cell_type": "code",
      "metadata": {
        "id": "HAILQRs__FNQ"
      },
      "source": [
        "from sklearn.preprocessing import StandardScaler\n",
        "scaler = StandardScaler().fit(features.values)"
      ],
      "execution_count": null,
      "outputs": []
    },
    {
      "cell_type": "code",
      "metadata": {
        "id": "o3Kd6tz1_FNV"
      },
      "source": [
        "features = scaler.transform(features.values)"
      ],
      "execution_count": null,
      "outputs": []
    },
    {
      "cell_type": "code",
      "metadata": {
        "id": "tuPBEn9E_FNa",
        "colab": {
          "base_uri": "https://localhost:8080/",
          "height": 231
        },
        "outputId": "6c90b40a-a624-42e8-8cf0-c95a6fb7b894"
      },
      "source": [
        "scaled_feature[names] = features\n",
        "scaled_feature.head()"
      ],
      "execution_count": null,
      "outputs": [
        {
          "output_type": "execute_result",
          "data": {
            "text/html": [
              "<div>\n",
              "<style scoped>\n",
              "    .dataframe tbody tr th:only-of-type {\n",
              "        vertical-align: middle;\n",
              "    }\n",
              "\n",
              "    .dataframe tbody tr th {\n",
              "        vertical-align: top;\n",
              "    }\n",
              "\n",
              "    .dataframe thead th {\n",
              "        text-align: right;\n",
              "    }\n",
              "</style>\n",
              "<table border=\"1\" class=\"dataframe\">\n",
              "  <thead>\n",
              "    <tr style=\"text-align: right;\">\n",
              "      <th></th>\n",
              "      <th>gradyear</th>\n",
              "      <th>gender</th>\n",
              "      <th>age</th>\n",
              "      <th>friends</th>\n",
              "      <th>basketball</th>\n",
              "      <th>football</th>\n",
              "      <th>soccer</th>\n",
              "      <th>softball</th>\n",
              "      <th>volleyball</th>\n",
              "      <th>swimming</th>\n",
              "      <th>cheerleading</th>\n",
              "      <th>baseball</th>\n",
              "      <th>tennis</th>\n",
              "      <th>sports</th>\n",
              "      <th>cute</th>\n",
              "      <th>sex</th>\n",
              "      <th>sexy</th>\n",
              "      <th>hot</th>\n",
              "      <th>kissed</th>\n",
              "      <th>dance</th>\n",
              "      <th>band</th>\n",
              "      <th>marching</th>\n",
              "      <th>music</th>\n",
              "      <th>rock</th>\n",
              "      <th>god</th>\n",
              "      <th>church</th>\n",
              "      <th>jesus</th>\n",
              "      <th>bible</th>\n",
              "      <th>hair</th>\n",
              "      <th>dress</th>\n",
              "      <th>blonde</th>\n",
              "      <th>mall</th>\n",
              "      <th>shopping</th>\n",
              "      <th>clothes</th>\n",
              "      <th>hollister</th>\n",
              "      <th>abercrombie</th>\n",
              "      <th>die</th>\n",
              "      <th>death</th>\n",
              "      <th>drunk</th>\n",
              "      <th>drugs</th>\n",
              "    </tr>\n",
              "  </thead>\n",
              "  <tbody>\n",
              "    <tr>\n",
              "      <th>0</th>\n",
              "      <td>2006</td>\n",
              "      <td>M</td>\n",
              "      <td>18.982</td>\n",
              "      <td>7</td>\n",
              "      <td>0</td>\n",
              "      <td>-0.357697</td>\n",
              "      <td>-0.242874</td>\n",
              "      <td>-0.217928</td>\n",
              "      <td>-0.22367</td>\n",
              "      <td>-0.259971</td>\n",
              "      <td>-0.207327</td>\n",
              "      <td>-0.201131</td>\n",
              "      <td>-0.168939</td>\n",
              "      <td>-0.297123</td>\n",
              "      <td>-0.402362</td>\n",
              "      <td>-0.186384</td>\n",
              "      <td>-0.267323</td>\n",
              "      <td>-0.264225</td>\n",
              "      <td>-0.202619</td>\n",
              "      <td>0.494457</td>\n",
              "      <td>-0.267795</td>\n",
              "      <td>-0.141421</td>\n",
              "      <td>-0.589161</td>\n",
              "      <td>-0.337793</td>\n",
              "      <td>-0.346411</td>\n",
              "      <td>-0.297557</td>\n",
              "      <td>-0.192654</td>\n",
              "      <td>-0.104247</td>\n",
              "      <td>-0.384873</td>\n",
              "      <td>-0.246906</td>\n",
              "      <td>-0.050937</td>\n",
              "      <td>-0.369915</td>\n",
              "      <td>-0.487314</td>\n",
              "      <td>-0.314198</td>\n",
              "      <td>-0.201476</td>\n",
              "      <td>-0.183032</td>\n",
              "      <td>-0.294793</td>\n",
              "      <td>-0.261530</td>\n",
              "      <td>-0.220403</td>\n",
              "      <td>-0.174908</td>\n",
              "    </tr>\n",
              "    <tr>\n",
              "      <th>1</th>\n",
              "      <td>2006</td>\n",
              "      <td>F</td>\n",
              "      <td>18.801</td>\n",
              "      <td>0</td>\n",
              "      <td>0</td>\n",
              "      <td>1.060049</td>\n",
              "      <td>-0.242874</td>\n",
              "      <td>-0.217928</td>\n",
              "      <td>-0.22367</td>\n",
              "      <td>-0.259971</td>\n",
              "      <td>-0.207327</td>\n",
              "      <td>-0.201131</td>\n",
              "      <td>-0.168939</td>\n",
              "      <td>-0.297123</td>\n",
              "      <td>0.843856</td>\n",
              "      <td>-0.186384</td>\n",
              "      <td>-0.267323</td>\n",
              "      <td>-0.264225</td>\n",
              "      <td>-0.202619</td>\n",
              "      <td>-0.365718</td>\n",
              "      <td>-0.267795</td>\n",
              "      <td>-0.141421</td>\n",
              "      <td>1.007842</td>\n",
              "      <td>2.438587</td>\n",
              "      <td>0.398078</td>\n",
              "      <td>-0.297557</td>\n",
              "      <td>-0.192654</td>\n",
              "      <td>-0.104247</td>\n",
              "      <td>5.079910</td>\n",
              "      <td>8.653277</td>\n",
              "      <td>-0.050937</td>\n",
              "      <td>1.067392</td>\n",
              "      <td>-0.487314</td>\n",
              "      <td>-0.314198</td>\n",
              "      <td>-0.201476</td>\n",
              "      <td>-0.183032</td>\n",
              "      <td>-0.294793</td>\n",
              "      <td>-0.261530</td>\n",
              "      <td>-0.220403</td>\n",
              "      <td>-0.174908</td>\n",
              "    </tr>\n",
              "    <tr>\n",
              "      <th>2</th>\n",
              "      <td>2006</td>\n",
              "      <td>M</td>\n",
              "      <td>18.335</td>\n",
              "      <td>69</td>\n",
              "      <td>0</td>\n",
              "      <td>1.060049</td>\n",
              "      <td>-0.242874</td>\n",
              "      <td>-0.217928</td>\n",
              "      <td>-0.22367</td>\n",
              "      <td>-0.259971</td>\n",
              "      <td>-0.207327</td>\n",
              "      <td>-0.201131</td>\n",
              "      <td>-0.168939</td>\n",
              "      <td>-0.297123</td>\n",
              "      <td>-0.402362</td>\n",
              "      <td>-0.186384</td>\n",
              "      <td>-0.267323</td>\n",
              "      <td>-0.264225</td>\n",
              "      <td>-0.202619</td>\n",
              "      <td>-0.365718</td>\n",
              "      <td>1.519887</td>\n",
              "      <td>-0.141421</td>\n",
              "      <td>0.209341</td>\n",
              "      <td>-0.337793</td>\n",
              "      <td>-0.346411</td>\n",
              "      <td>-0.297557</td>\n",
              "      <td>-0.192654</td>\n",
              "      <td>-0.104247</td>\n",
              "      <td>-0.384873</td>\n",
              "      <td>-0.246906</td>\n",
              "      <td>-0.050937</td>\n",
              "      <td>-0.369915</td>\n",
              "      <td>-0.487314</td>\n",
              "      <td>-0.314198</td>\n",
              "      <td>-0.201476</td>\n",
              "      <td>-0.183032</td>\n",
              "      <td>-0.294793</td>\n",
              "      <td>2.027908</td>\n",
              "      <td>-0.220403</td>\n",
              "      <td>-0.174908</td>\n",
              "    </tr>\n",
              "    <tr>\n",
              "      <th>3</th>\n",
              "      <td>2006</td>\n",
              "      <td>F</td>\n",
              "      <td>18.875</td>\n",
              "      <td>0</td>\n",
              "      <td>0</td>\n",
              "      <td>-0.357697</td>\n",
              "      <td>-0.242874</td>\n",
              "      <td>-0.217928</td>\n",
              "      <td>-0.22367</td>\n",
              "      <td>-0.259971</td>\n",
              "      <td>-0.207327</td>\n",
              "      <td>-0.201131</td>\n",
              "      <td>-0.168939</td>\n",
              "      <td>-0.297123</td>\n",
              "      <td>0.843856</td>\n",
              "      <td>-0.186384</td>\n",
              "      <td>-0.267323</td>\n",
              "      <td>-0.264225</td>\n",
              "      <td>-0.202619</td>\n",
              "      <td>-0.365718</td>\n",
              "      <td>-0.267795</td>\n",
              "      <td>-0.141421</td>\n",
              "      <td>-0.589161</td>\n",
              "      <td>1.050397</td>\n",
              "      <td>-0.346411</td>\n",
              "      <td>-0.297557</td>\n",
              "      <td>-0.192654</td>\n",
              "      <td>-0.104247</td>\n",
              "      <td>-0.384873</td>\n",
              "      <td>-0.246906</td>\n",
              "      <td>-0.050937</td>\n",
              "      <td>-0.369915</td>\n",
              "      <td>-0.487314</td>\n",
              "      <td>-0.314198</td>\n",
              "      <td>-0.201476</td>\n",
              "      <td>-0.183032</td>\n",
              "      <td>-0.294793</td>\n",
              "      <td>-0.261530</td>\n",
              "      <td>-0.220403</td>\n",
              "      <td>-0.174908</td>\n",
              "    </tr>\n",
              "    <tr>\n",
              "      <th>4</th>\n",
              "      <td>2006</td>\n",
              "      <td>not disclosed</td>\n",
              "      <td>18.995</td>\n",
              "      <td>10</td>\n",
              "      <td>0</td>\n",
              "      <td>-0.357697</td>\n",
              "      <td>-0.242874</td>\n",
              "      <td>-0.217928</td>\n",
              "      <td>-0.22367</td>\n",
              "      <td>-0.259971</td>\n",
              "      <td>-0.207327</td>\n",
              "      <td>-0.201131</td>\n",
              "      <td>-0.168939</td>\n",
              "      <td>-0.297123</td>\n",
              "      <td>-0.402362</td>\n",
              "      <td>0.703703</td>\n",
              "      <td>-0.267323</td>\n",
              "      <td>-0.264225</td>\n",
              "      <td>9.614211</td>\n",
              "      <td>0.494457</td>\n",
              "      <td>0.626046</td>\n",
              "      <td>-0.141421</td>\n",
              "      <td>1.806344</td>\n",
              "      <td>-0.337793</td>\n",
              "      <td>0.398078</td>\n",
              "      <td>-0.297557</td>\n",
              "      <td>-0.192654</td>\n",
              "      <td>-0.104247</td>\n",
              "      <td>0.525925</td>\n",
              "      <td>-0.246906</td>\n",
              "      <td>-0.050937</td>\n",
              "      <td>-0.369915</td>\n",
              "      <td>2.273673</td>\n",
              "      <td>-0.314198</td>\n",
              "      <td>-0.201476</td>\n",
              "      <td>-0.183032</td>\n",
              "      <td>-0.294793</td>\n",
              "      <td>-0.261530</td>\n",
              "      <td>2.285122</td>\n",
              "      <td>2.719316</td>\n",
              "    </tr>\n",
              "  </tbody>\n",
              "</table>\n",
              "</div>"
            ],
            "text/plain": [
              "   gradyear         gender     age  friends  basketball  football    soccer  \\\n",
              "0      2006              M  18.982        7           0 -0.357697 -0.242874   \n",
              "1      2006              F  18.801        0           0  1.060049 -0.242874   \n",
              "2      2006              M  18.335       69           0  1.060049 -0.242874   \n",
              "3      2006              F  18.875        0           0 -0.357697 -0.242874   \n",
              "4      2006  not disclosed  18.995       10           0 -0.357697 -0.242874   \n",
              "\n",
              "   softball  volleyball  swimming  cheerleading  baseball    tennis    sports  \\\n",
              "0 -0.217928    -0.22367 -0.259971     -0.207327 -0.201131 -0.168939 -0.297123   \n",
              "1 -0.217928    -0.22367 -0.259971     -0.207327 -0.201131 -0.168939 -0.297123   \n",
              "2 -0.217928    -0.22367 -0.259971     -0.207327 -0.201131 -0.168939 -0.297123   \n",
              "3 -0.217928    -0.22367 -0.259971     -0.207327 -0.201131 -0.168939 -0.297123   \n",
              "4 -0.217928    -0.22367 -0.259971     -0.207327 -0.201131 -0.168939 -0.297123   \n",
              "\n",
              "       cute       sex      sexy       hot    kissed     dance      band  \\\n",
              "0 -0.402362 -0.186384 -0.267323 -0.264225 -0.202619  0.494457 -0.267795   \n",
              "1  0.843856 -0.186384 -0.267323 -0.264225 -0.202619 -0.365718 -0.267795   \n",
              "2 -0.402362 -0.186384 -0.267323 -0.264225 -0.202619 -0.365718  1.519887   \n",
              "3  0.843856 -0.186384 -0.267323 -0.264225 -0.202619 -0.365718 -0.267795   \n",
              "4 -0.402362  0.703703 -0.267323 -0.264225  9.614211  0.494457  0.626046   \n",
              "\n",
              "   marching     music      rock       god    church     jesus     bible  \\\n",
              "0 -0.141421 -0.589161 -0.337793 -0.346411 -0.297557 -0.192654 -0.104247   \n",
              "1 -0.141421  1.007842  2.438587  0.398078 -0.297557 -0.192654 -0.104247   \n",
              "2 -0.141421  0.209341 -0.337793 -0.346411 -0.297557 -0.192654 -0.104247   \n",
              "3 -0.141421 -0.589161  1.050397 -0.346411 -0.297557 -0.192654 -0.104247   \n",
              "4 -0.141421  1.806344 -0.337793  0.398078 -0.297557 -0.192654 -0.104247   \n",
              "\n",
              "       hair     dress    blonde      mall  shopping   clothes  hollister  \\\n",
              "0 -0.384873 -0.246906 -0.050937 -0.369915 -0.487314 -0.314198  -0.201476   \n",
              "1  5.079910  8.653277 -0.050937  1.067392 -0.487314 -0.314198  -0.201476   \n",
              "2 -0.384873 -0.246906 -0.050937 -0.369915 -0.487314 -0.314198  -0.201476   \n",
              "3 -0.384873 -0.246906 -0.050937 -0.369915 -0.487314 -0.314198  -0.201476   \n",
              "4  0.525925 -0.246906 -0.050937 -0.369915  2.273673 -0.314198  -0.201476   \n",
              "\n",
              "   abercrombie       die     death     drunk     drugs  \n",
              "0    -0.183032 -0.294793 -0.261530 -0.220403 -0.174908  \n",
              "1    -0.183032 -0.294793 -0.261530 -0.220403 -0.174908  \n",
              "2    -0.183032 -0.294793  2.027908 -0.220403 -0.174908  \n",
              "3    -0.183032 -0.294793 -0.261530 -0.220403 -0.174908  \n",
              "4    -0.183032 -0.294793 -0.261530  2.285122  2.719316  "
            ]
          },
          "metadata": {
            "tags": []
          },
          "execution_count": 35
        }
      ]
    },
    {
      "cell_type": "markdown",
      "metadata": {
        "id": "3D23w7vk_FNg"
      },
      "source": [
        "## Convert object variable to numeric "
      ]
    },
    {
      "cell_type": "code",
      "metadata": {
        "id": "Uc4HpvKw_FNh"
      },
      "source": [
        "def gender_to_numeric(x):\n",
        "    if x=='M':\n",
        "        return 1\n",
        "    if x=='F':\n",
        "        return 2\n",
        "    if x=='not disclosed':\n",
        "        return 3"
      ],
      "execution_count": null,
      "outputs": []
    },
    {
      "cell_type": "code",
      "metadata": {
        "id": "WN73ecTx_FNj",
        "colab": {
          "base_uri": "https://localhost:8080/",
          "height": 124
        },
        "outputId": "272ccdd5-7284-46f2-ab90-1f7517151f8d"
      },
      "source": [
        "scaled_feature['gender'] = scaled_feature['gender'].apply(gender_to_numeric)\n",
        "scaled_feature['gender'].head()"
      ],
      "execution_count": null,
      "outputs": [
        {
          "output_type": "execute_result",
          "data": {
            "text/plain": [
              "0    1\n",
              "1    2\n",
              "2    1\n",
              "3    2\n",
              "4    3\n",
              "Name: gender, dtype: int64"
            ]
          },
          "metadata": {
            "tags": []
          },
          "execution_count": 37
        }
      ]
    },
    {
      "cell_type": "markdown",
      "metadata": {
        "id": "GhNsLb15_FNn"
      },
      "source": [
        "### Checking the transformed values"
      ]
    },
    {
      "cell_type": "code",
      "metadata": {
        "id": "1Iaxhsse_FNp",
        "colab": {
          "base_uri": "https://localhost:8080/",
          "height": 214
        },
        "outputId": "00c84cea-ba5d-4ec2-9bd5-7c93268c4504"
      },
      "source": [
        "scaled_feature.head()"
      ],
      "execution_count": null,
      "outputs": [
        {
          "output_type": "execute_result",
          "data": {
            "text/html": [
              "<div>\n",
              "<style scoped>\n",
              "    .dataframe tbody tr th:only-of-type {\n",
              "        vertical-align: middle;\n",
              "    }\n",
              "\n",
              "    .dataframe tbody tr th {\n",
              "        vertical-align: top;\n",
              "    }\n",
              "\n",
              "    .dataframe thead th {\n",
              "        text-align: right;\n",
              "    }\n",
              "</style>\n",
              "<table border=\"1\" class=\"dataframe\">\n",
              "  <thead>\n",
              "    <tr style=\"text-align: right;\">\n",
              "      <th></th>\n",
              "      <th>gradyear</th>\n",
              "      <th>gender</th>\n",
              "      <th>age</th>\n",
              "      <th>friends</th>\n",
              "      <th>basketball</th>\n",
              "      <th>football</th>\n",
              "      <th>soccer</th>\n",
              "      <th>softball</th>\n",
              "      <th>volleyball</th>\n",
              "      <th>swimming</th>\n",
              "      <th>cheerleading</th>\n",
              "      <th>baseball</th>\n",
              "      <th>tennis</th>\n",
              "      <th>sports</th>\n",
              "      <th>cute</th>\n",
              "      <th>sex</th>\n",
              "      <th>sexy</th>\n",
              "      <th>hot</th>\n",
              "      <th>kissed</th>\n",
              "      <th>dance</th>\n",
              "      <th>band</th>\n",
              "      <th>marching</th>\n",
              "      <th>music</th>\n",
              "      <th>rock</th>\n",
              "      <th>god</th>\n",
              "      <th>church</th>\n",
              "      <th>jesus</th>\n",
              "      <th>bible</th>\n",
              "      <th>hair</th>\n",
              "      <th>dress</th>\n",
              "      <th>blonde</th>\n",
              "      <th>mall</th>\n",
              "      <th>shopping</th>\n",
              "      <th>clothes</th>\n",
              "      <th>hollister</th>\n",
              "      <th>abercrombie</th>\n",
              "      <th>die</th>\n",
              "      <th>death</th>\n",
              "      <th>drunk</th>\n",
              "      <th>drugs</th>\n",
              "    </tr>\n",
              "  </thead>\n",
              "  <tbody>\n",
              "    <tr>\n",
              "      <th>0</th>\n",
              "      <td>2006</td>\n",
              "      <td>1</td>\n",
              "      <td>18.982</td>\n",
              "      <td>7</td>\n",
              "      <td>0</td>\n",
              "      <td>-0.357697</td>\n",
              "      <td>-0.242874</td>\n",
              "      <td>-0.217928</td>\n",
              "      <td>-0.22367</td>\n",
              "      <td>-0.259971</td>\n",
              "      <td>-0.207327</td>\n",
              "      <td>-0.201131</td>\n",
              "      <td>-0.168939</td>\n",
              "      <td>-0.297123</td>\n",
              "      <td>-0.402362</td>\n",
              "      <td>-0.186384</td>\n",
              "      <td>-0.267323</td>\n",
              "      <td>-0.264225</td>\n",
              "      <td>-0.202619</td>\n",
              "      <td>0.494457</td>\n",
              "      <td>-0.267795</td>\n",
              "      <td>-0.141421</td>\n",
              "      <td>-0.589161</td>\n",
              "      <td>-0.337793</td>\n",
              "      <td>-0.346411</td>\n",
              "      <td>-0.297557</td>\n",
              "      <td>-0.192654</td>\n",
              "      <td>-0.104247</td>\n",
              "      <td>-0.384873</td>\n",
              "      <td>-0.246906</td>\n",
              "      <td>-0.050937</td>\n",
              "      <td>-0.369915</td>\n",
              "      <td>-0.487314</td>\n",
              "      <td>-0.314198</td>\n",
              "      <td>-0.201476</td>\n",
              "      <td>-0.183032</td>\n",
              "      <td>-0.294793</td>\n",
              "      <td>-0.261530</td>\n",
              "      <td>-0.220403</td>\n",
              "      <td>-0.174908</td>\n",
              "    </tr>\n",
              "    <tr>\n",
              "      <th>1</th>\n",
              "      <td>2006</td>\n",
              "      <td>2</td>\n",
              "      <td>18.801</td>\n",
              "      <td>0</td>\n",
              "      <td>0</td>\n",
              "      <td>1.060049</td>\n",
              "      <td>-0.242874</td>\n",
              "      <td>-0.217928</td>\n",
              "      <td>-0.22367</td>\n",
              "      <td>-0.259971</td>\n",
              "      <td>-0.207327</td>\n",
              "      <td>-0.201131</td>\n",
              "      <td>-0.168939</td>\n",
              "      <td>-0.297123</td>\n",
              "      <td>0.843856</td>\n",
              "      <td>-0.186384</td>\n",
              "      <td>-0.267323</td>\n",
              "      <td>-0.264225</td>\n",
              "      <td>-0.202619</td>\n",
              "      <td>-0.365718</td>\n",
              "      <td>-0.267795</td>\n",
              "      <td>-0.141421</td>\n",
              "      <td>1.007842</td>\n",
              "      <td>2.438587</td>\n",
              "      <td>0.398078</td>\n",
              "      <td>-0.297557</td>\n",
              "      <td>-0.192654</td>\n",
              "      <td>-0.104247</td>\n",
              "      <td>5.079910</td>\n",
              "      <td>8.653277</td>\n",
              "      <td>-0.050937</td>\n",
              "      <td>1.067392</td>\n",
              "      <td>-0.487314</td>\n",
              "      <td>-0.314198</td>\n",
              "      <td>-0.201476</td>\n",
              "      <td>-0.183032</td>\n",
              "      <td>-0.294793</td>\n",
              "      <td>-0.261530</td>\n",
              "      <td>-0.220403</td>\n",
              "      <td>-0.174908</td>\n",
              "    </tr>\n",
              "    <tr>\n",
              "      <th>2</th>\n",
              "      <td>2006</td>\n",
              "      <td>1</td>\n",
              "      <td>18.335</td>\n",
              "      <td>69</td>\n",
              "      <td>0</td>\n",
              "      <td>1.060049</td>\n",
              "      <td>-0.242874</td>\n",
              "      <td>-0.217928</td>\n",
              "      <td>-0.22367</td>\n",
              "      <td>-0.259971</td>\n",
              "      <td>-0.207327</td>\n",
              "      <td>-0.201131</td>\n",
              "      <td>-0.168939</td>\n",
              "      <td>-0.297123</td>\n",
              "      <td>-0.402362</td>\n",
              "      <td>-0.186384</td>\n",
              "      <td>-0.267323</td>\n",
              "      <td>-0.264225</td>\n",
              "      <td>-0.202619</td>\n",
              "      <td>-0.365718</td>\n",
              "      <td>1.519887</td>\n",
              "      <td>-0.141421</td>\n",
              "      <td>0.209341</td>\n",
              "      <td>-0.337793</td>\n",
              "      <td>-0.346411</td>\n",
              "      <td>-0.297557</td>\n",
              "      <td>-0.192654</td>\n",
              "      <td>-0.104247</td>\n",
              "      <td>-0.384873</td>\n",
              "      <td>-0.246906</td>\n",
              "      <td>-0.050937</td>\n",
              "      <td>-0.369915</td>\n",
              "      <td>-0.487314</td>\n",
              "      <td>-0.314198</td>\n",
              "      <td>-0.201476</td>\n",
              "      <td>-0.183032</td>\n",
              "      <td>-0.294793</td>\n",
              "      <td>2.027908</td>\n",
              "      <td>-0.220403</td>\n",
              "      <td>-0.174908</td>\n",
              "    </tr>\n",
              "    <tr>\n",
              "      <th>3</th>\n",
              "      <td>2006</td>\n",
              "      <td>2</td>\n",
              "      <td>18.875</td>\n",
              "      <td>0</td>\n",
              "      <td>0</td>\n",
              "      <td>-0.357697</td>\n",
              "      <td>-0.242874</td>\n",
              "      <td>-0.217928</td>\n",
              "      <td>-0.22367</td>\n",
              "      <td>-0.259971</td>\n",
              "      <td>-0.207327</td>\n",
              "      <td>-0.201131</td>\n",
              "      <td>-0.168939</td>\n",
              "      <td>-0.297123</td>\n",
              "      <td>0.843856</td>\n",
              "      <td>-0.186384</td>\n",
              "      <td>-0.267323</td>\n",
              "      <td>-0.264225</td>\n",
              "      <td>-0.202619</td>\n",
              "      <td>-0.365718</td>\n",
              "      <td>-0.267795</td>\n",
              "      <td>-0.141421</td>\n",
              "      <td>-0.589161</td>\n",
              "      <td>1.050397</td>\n",
              "      <td>-0.346411</td>\n",
              "      <td>-0.297557</td>\n",
              "      <td>-0.192654</td>\n",
              "      <td>-0.104247</td>\n",
              "      <td>-0.384873</td>\n",
              "      <td>-0.246906</td>\n",
              "      <td>-0.050937</td>\n",
              "      <td>-0.369915</td>\n",
              "      <td>-0.487314</td>\n",
              "      <td>-0.314198</td>\n",
              "      <td>-0.201476</td>\n",
              "      <td>-0.183032</td>\n",
              "      <td>-0.294793</td>\n",
              "      <td>-0.261530</td>\n",
              "      <td>-0.220403</td>\n",
              "      <td>-0.174908</td>\n",
              "    </tr>\n",
              "    <tr>\n",
              "      <th>4</th>\n",
              "      <td>2006</td>\n",
              "      <td>3</td>\n",
              "      <td>18.995</td>\n",
              "      <td>10</td>\n",
              "      <td>0</td>\n",
              "      <td>-0.357697</td>\n",
              "      <td>-0.242874</td>\n",
              "      <td>-0.217928</td>\n",
              "      <td>-0.22367</td>\n",
              "      <td>-0.259971</td>\n",
              "      <td>-0.207327</td>\n",
              "      <td>-0.201131</td>\n",
              "      <td>-0.168939</td>\n",
              "      <td>-0.297123</td>\n",
              "      <td>-0.402362</td>\n",
              "      <td>0.703703</td>\n",
              "      <td>-0.267323</td>\n",
              "      <td>-0.264225</td>\n",
              "      <td>9.614211</td>\n",
              "      <td>0.494457</td>\n",
              "      <td>0.626046</td>\n",
              "      <td>-0.141421</td>\n",
              "      <td>1.806344</td>\n",
              "      <td>-0.337793</td>\n",
              "      <td>0.398078</td>\n",
              "      <td>-0.297557</td>\n",
              "      <td>-0.192654</td>\n",
              "      <td>-0.104247</td>\n",
              "      <td>0.525925</td>\n",
              "      <td>-0.246906</td>\n",
              "      <td>-0.050937</td>\n",
              "      <td>-0.369915</td>\n",
              "      <td>2.273673</td>\n",
              "      <td>-0.314198</td>\n",
              "      <td>-0.201476</td>\n",
              "      <td>-0.183032</td>\n",
              "      <td>-0.294793</td>\n",
              "      <td>-0.261530</td>\n",
              "      <td>2.285122</td>\n",
              "      <td>2.719316</td>\n",
              "    </tr>\n",
              "  </tbody>\n",
              "</table>\n",
              "</div>"
            ],
            "text/plain": [
              "   gradyear  gender     age  friends  basketball  football    soccer  \\\n",
              "0      2006       1  18.982        7           0 -0.357697 -0.242874   \n",
              "1      2006       2  18.801        0           0  1.060049 -0.242874   \n",
              "2      2006       1  18.335       69           0  1.060049 -0.242874   \n",
              "3      2006       2  18.875        0           0 -0.357697 -0.242874   \n",
              "4      2006       3  18.995       10           0 -0.357697 -0.242874   \n",
              "\n",
              "   softball  volleyball  swimming  cheerleading  baseball    tennis    sports  \\\n",
              "0 -0.217928    -0.22367 -0.259971     -0.207327 -0.201131 -0.168939 -0.297123   \n",
              "1 -0.217928    -0.22367 -0.259971     -0.207327 -0.201131 -0.168939 -0.297123   \n",
              "2 -0.217928    -0.22367 -0.259971     -0.207327 -0.201131 -0.168939 -0.297123   \n",
              "3 -0.217928    -0.22367 -0.259971     -0.207327 -0.201131 -0.168939 -0.297123   \n",
              "4 -0.217928    -0.22367 -0.259971     -0.207327 -0.201131 -0.168939 -0.297123   \n",
              "\n",
              "       cute       sex      sexy       hot    kissed     dance      band  \\\n",
              "0 -0.402362 -0.186384 -0.267323 -0.264225 -0.202619  0.494457 -0.267795   \n",
              "1  0.843856 -0.186384 -0.267323 -0.264225 -0.202619 -0.365718 -0.267795   \n",
              "2 -0.402362 -0.186384 -0.267323 -0.264225 -0.202619 -0.365718  1.519887   \n",
              "3  0.843856 -0.186384 -0.267323 -0.264225 -0.202619 -0.365718 -0.267795   \n",
              "4 -0.402362  0.703703 -0.267323 -0.264225  9.614211  0.494457  0.626046   \n",
              "\n",
              "   marching     music      rock       god    church     jesus     bible  \\\n",
              "0 -0.141421 -0.589161 -0.337793 -0.346411 -0.297557 -0.192654 -0.104247   \n",
              "1 -0.141421  1.007842  2.438587  0.398078 -0.297557 -0.192654 -0.104247   \n",
              "2 -0.141421  0.209341 -0.337793 -0.346411 -0.297557 -0.192654 -0.104247   \n",
              "3 -0.141421 -0.589161  1.050397 -0.346411 -0.297557 -0.192654 -0.104247   \n",
              "4 -0.141421  1.806344 -0.337793  0.398078 -0.297557 -0.192654 -0.104247   \n",
              "\n",
              "       hair     dress    blonde      mall  shopping   clothes  hollister  \\\n",
              "0 -0.384873 -0.246906 -0.050937 -0.369915 -0.487314 -0.314198  -0.201476   \n",
              "1  5.079910  8.653277 -0.050937  1.067392 -0.487314 -0.314198  -0.201476   \n",
              "2 -0.384873 -0.246906 -0.050937 -0.369915 -0.487314 -0.314198  -0.201476   \n",
              "3 -0.384873 -0.246906 -0.050937 -0.369915 -0.487314 -0.314198  -0.201476   \n",
              "4  0.525925 -0.246906 -0.050937 -0.369915  2.273673 -0.314198  -0.201476   \n",
              "\n",
              "   abercrombie       die     death     drunk     drugs  \n",
              "0    -0.183032 -0.294793 -0.261530 -0.220403 -0.174908  \n",
              "1    -0.183032 -0.294793 -0.261530 -0.220403 -0.174908  \n",
              "2    -0.183032 -0.294793  2.027908 -0.220403 -0.174908  \n",
              "3    -0.183032 -0.294793 -0.261530 -0.220403 -0.174908  \n",
              "4    -0.183032 -0.294793 -0.261530  2.285122  2.719316  "
            ]
          },
          "metadata": {
            "tags": []
          },
          "execution_count": 38
        }
      ]
    },
    {
      "cell_type": "markdown",
      "metadata": {
        "id": "aSCQEXYa_FNs"
      },
      "source": [
        "## Building the K-means model"
      ]
    },
    {
      "cell_type": "code",
      "metadata": {
        "id": "5ei8gAJ0_FNt"
      },
      "source": [
        "from sklearn.cluster import KMeans\n",
        "kmeans = KMeans(n_clusters=5, random_state=0, n_jobs=-1)"
      ],
      "execution_count": null,
      "outputs": []
    },
    {
      "cell_type": "code",
      "metadata": {
        "id": "yAKOgZWs_FNw"
      },
      "source": [
        "model = kmeans.fit(scaled_feature)"
      ],
      "execution_count": null,
      "outputs": []
    },
    {
      "cell_type": "markdown",
      "metadata": {
        "id": "LZQusO2k_FN2"
      },
      "source": [
        "## Elbow Method"
      ]
    },
    {
      "cell_type": "code",
      "metadata": {
        "id": "E8blrg67_FN3",
        "colab": {
          "base_uri": "https://localhost:8080/",
          "height": 295
        },
        "outputId": "18c41a68-0e48-4b3e-a29f-6e1546da2ea2"
      },
      "source": [
        "# Creating a funtion with KMeans to plot \"The Elbow Curve\"\n",
        "wcss = []\n",
        "for i in range(1,20):\n",
        "    kmeans = KMeans(n_clusters=i,init='k-means++',max_iter=300,n_init=10,random_state=0)\n",
        "    kmeans.fit(scaled_feature)\n",
        "    wcss.append(kmeans.inertia_)\n",
        "plt.plot(range(1,20),wcss)\n",
        "plt.title('The Elbow Curve')\n",
        "plt.xlabel('Number of clusters')\n",
        "plt.ylabel('WCSS') ##WCSS stands for total within-cluster sum of square\n",
        "plt.show()"
      ],
      "execution_count": null,
      "outputs": [
        {
          "output_type": "display_data",
          "data": {
            "image/png": "[encoded data removed]",
            "text/plain": [
              "<Figure size 432x288 with 1 Axes>"
            ]
          },
          "metadata": {
            "tags": [],
            "needs_background": "light"
          }
        }
      ]
    },
    {
      "cell_type": "markdown",
      "metadata": {
        "id": "jSK1JKOs_FN8"
      },
      "source": [
        "The location of a bend (knee) in the plot is generally considered as an indicator of the appropriate number of clusters. Our Elbow point is around cluster size of 5. We will use k=5 to further interpret our clustering result"
      ]
    },
    {
      "cell_type": "markdown",
      "metadata": {
        "id": "Z4rlhos4_FN9"
      },
      "source": [
        "### Fit K-Means clustering for k=5"
      ]
    },
    {
      "cell_type": "code",
      "metadata": {
        "id": "Y0gpJMCs_FN-",
        "colab": {
          "base_uri": "https://localhost:8080/",
          "height": 70
        },
        "outputId": "f628ae08-564b-4ea6-8cef-3dd31264c863"
      },
      "source": [
        "kmeans = KMeans(n_clusters=5)\n",
        "kmeans.fit(scaled_feature)"
      ],
      "execution_count": null,
      "outputs": [
        {
          "output_type": "execute_result",
          "data": {
            "text/plain": [
              "KMeans(algorithm='auto', copy_x=True, init='k-means++', max_iter=300,\n",
              "       n_clusters=5, n_init=10, n_jobs=None, precompute_distances='auto',\n",
              "       random_state=None, tol=0.0001, verbose=0)"
            ]
          },
          "metadata": {
            "tags": []
          },
          "execution_count": 45
        }
      ]
    },
    {
      "cell_type": "markdown",
      "metadata": {
        "id": "CrFkgOzI_FOC"
      },
      "source": [
        "As a result of clustering, we have the clustering label. Let's put these labels back into the original numeric data frame."
      ]
    },
    {
      "cell_type": "code",
      "metadata": {
        "id": "Ygp8GTc9_FOD",
        "colab": {
          "base_uri": "https://localhost:8080/",
          "height": 35
        },
        "outputId": "b24192e6-f921-4f47-b6d4-ef0e86e959a3"
      },
      "source": [
        "len(kmeans.labels_)"
      ],
      "execution_count": null,
      "outputs": [
        {
          "output_type": "execute_result",
          "data": {
            "text/plain": [
              "30000"
            ]
          },
          "metadata": {
            "tags": []
          },
          "execution_count": 46
        }
      ]
    },
    {
      "cell_type": "code",
      "metadata": {
        "id": "lHZVdSpX_FOI"
      },
      "source": [
        "data['cluster'] = kmeans.labels_"
      ],
      "execution_count": null,
      "outputs": []
    },
    {
      "cell_type": "code",
      "metadata": {
        "id": "XTO02-6d_FOT",
        "colab": {
          "base_uri": "https://localhost:8080/",
          "height": 231
        },
        "outputId": "c40568c9-4c36-452a-f986-3d9eeaa0818d"
      },
      "source": [
        "data.head()"
      ],
      "execution_count": null,
      "outputs": [
        {
          "output_type": "execute_result",
          "data": {
            "text/html": [
              "<div>\n",
              "<style scoped>\n",
              "    .dataframe tbody tr th:only-of-type {\n",
              "        vertical-align: middle;\n",
              "    }\n",
              "\n",
              "    .dataframe tbody tr th {\n",
              "        vertical-align: top;\n",
              "    }\n",
              "\n",
              "    .dataframe thead th {\n",
              "        text-align: right;\n",
              "    }\n",
              "</style>\n",
              "<table border=\"1\" class=\"dataframe\">\n",
              "  <thead>\n",
              "    <tr style=\"text-align: right;\">\n",
              "      <th></th>\n",
              "      <th>gradyear</th>\n",
              "      <th>gender</th>\n",
              "      <th>age</th>\n",
              "      <th>friends</th>\n",
              "      <th>basketball</th>\n",
              "      <th>football</th>\n",
              "      <th>soccer</th>\n",
              "      <th>softball</th>\n",
              "      <th>volleyball</th>\n",
              "      <th>swimming</th>\n",
              "      <th>cheerleading</th>\n",
              "      <th>baseball</th>\n",
              "      <th>tennis</th>\n",
              "      <th>sports</th>\n",
              "      <th>cute</th>\n",
              "      <th>sex</th>\n",
              "      <th>sexy</th>\n",
              "      <th>hot</th>\n",
              "      <th>kissed</th>\n",
              "      <th>dance</th>\n",
              "      <th>band</th>\n",
              "      <th>marching</th>\n",
              "      <th>music</th>\n",
              "      <th>rock</th>\n",
              "      <th>god</th>\n",
              "      <th>church</th>\n",
              "      <th>jesus</th>\n",
              "      <th>bible</th>\n",
              "      <th>hair</th>\n",
              "      <th>dress</th>\n",
              "      <th>blonde</th>\n",
              "      <th>mall</th>\n",
              "      <th>shopping</th>\n",
              "      <th>clothes</th>\n",
              "      <th>hollister</th>\n",
              "      <th>abercrombie</th>\n",
              "      <th>die</th>\n",
              "      <th>death</th>\n",
              "      <th>drunk</th>\n",
              "      <th>drugs</th>\n",
              "      <th>cluster</th>\n",
              "    </tr>\n",
              "  </thead>\n",
              "  <tbody>\n",
              "    <tr>\n",
              "      <th>0</th>\n",
              "      <td>2006</td>\n",
              "      <td>M</td>\n",
              "      <td>18.982</td>\n",
              "      <td>7</td>\n",
              "      <td>0</td>\n",
              "      <td>0</td>\n",
              "      <td>0</td>\n",
              "      <td>0</td>\n",
              "      <td>0</td>\n",
              "      <td>0</td>\n",
              "      <td>0</td>\n",
              "      <td>0</td>\n",
              "      <td>0</td>\n",
              "      <td>0</td>\n",
              "      <td>0</td>\n",
              "      <td>0</td>\n",
              "      <td>0</td>\n",
              "      <td>0</td>\n",
              "      <td>0</td>\n",
              "      <td>1</td>\n",
              "      <td>0</td>\n",
              "      <td>0</td>\n",
              "      <td>0</td>\n",
              "      <td>0</td>\n",
              "      <td>0</td>\n",
              "      <td>0</td>\n",
              "      <td>0</td>\n",
              "      <td>0</td>\n",
              "      <td>0</td>\n",
              "      <td>0</td>\n",
              "      <td>0</td>\n",
              "      <td>0</td>\n",
              "      <td>0</td>\n",
              "      <td>0</td>\n",
              "      <td>0</td>\n",
              "      <td>0</td>\n",
              "      <td>0</td>\n",
              "      <td>0</td>\n",
              "      <td>0</td>\n",
              "      <td>0</td>\n",
              "      <td>0</td>\n",
              "    </tr>\n",
              "    <tr>\n",
              "      <th>1</th>\n",
              "      <td>2006</td>\n",
              "      <td>F</td>\n",
              "      <td>18.801</td>\n",
              "      <td>0</td>\n",
              "      <td>0</td>\n",
              "      <td>1</td>\n",
              "      <td>0</td>\n",
              "      <td>0</td>\n",
              "      <td>0</td>\n",
              "      <td>0</td>\n",
              "      <td>0</td>\n",
              "      <td>0</td>\n",
              "      <td>0</td>\n",
              "      <td>0</td>\n",
              "      <td>1</td>\n",
              "      <td>0</td>\n",
              "      <td>0</td>\n",
              "      <td>0</td>\n",
              "      <td>0</td>\n",
              "      <td>0</td>\n",
              "      <td>0</td>\n",
              "      <td>0</td>\n",
              "      <td>2</td>\n",
              "      <td>2</td>\n",
              "      <td>1</td>\n",
              "      <td>0</td>\n",
              "      <td>0</td>\n",
              "      <td>0</td>\n",
              "      <td>6</td>\n",
              "      <td>4</td>\n",
              "      <td>0</td>\n",
              "      <td>1</td>\n",
              "      <td>0</td>\n",
              "      <td>0</td>\n",
              "      <td>0</td>\n",
              "      <td>0</td>\n",
              "      <td>0</td>\n",
              "      <td>0</td>\n",
              "      <td>0</td>\n",
              "      <td>0</td>\n",
              "      <td>0</td>\n",
              "    </tr>\n",
              "    <tr>\n",
              "      <th>2</th>\n",
              "      <td>2006</td>\n",
              "      <td>M</td>\n",
              "      <td>18.335</td>\n",
              "      <td>69</td>\n",
              "      <td>0</td>\n",
              "      <td>1</td>\n",
              "      <td>0</td>\n",
              "      <td>0</td>\n",
              "      <td>0</td>\n",
              "      <td>0</td>\n",
              "      <td>0</td>\n",
              "      <td>0</td>\n",
              "      <td>0</td>\n",
              "      <td>0</td>\n",
              "      <td>0</td>\n",
              "      <td>0</td>\n",
              "      <td>0</td>\n",
              "      <td>0</td>\n",
              "      <td>0</td>\n",
              "      <td>0</td>\n",
              "      <td>2</td>\n",
              "      <td>0</td>\n",
              "      <td>1</td>\n",
              "      <td>0</td>\n",
              "      <td>0</td>\n",
              "      <td>0</td>\n",
              "      <td>0</td>\n",
              "      <td>0</td>\n",
              "      <td>0</td>\n",
              "      <td>0</td>\n",
              "      <td>0</td>\n",
              "      <td>0</td>\n",
              "      <td>0</td>\n",
              "      <td>0</td>\n",
              "      <td>0</td>\n",
              "      <td>0</td>\n",
              "      <td>0</td>\n",
              "      <td>1</td>\n",
              "      <td>0</td>\n",
              "      <td>0</td>\n",
              "      <td>4</td>\n",
              "    </tr>\n",
              "    <tr>\n",
              "      <th>3</th>\n",
              "      <td>2006</td>\n",
              "      <td>F</td>\n",
              "      <td>18.875</td>\n",
              "      <td>0</td>\n",
              "      <td>0</td>\n",
              "      <td>0</td>\n",
              "      <td>0</td>\n",
              "      <td>0</td>\n",
              "      <td>0</td>\n",
              "      <td>0</td>\n",
              "      <td>0</td>\n",
              "      <td>0</td>\n",
              "      <td>0</td>\n",
              "      <td>0</td>\n",
              "      <td>1</td>\n",
              "      <td>0</td>\n",
              "      <td>0</td>\n",
              "      <td>0</td>\n",
              "      <td>0</td>\n",
              "      <td>0</td>\n",
              "      <td>0</td>\n",
              "      <td>0</td>\n",
              "      <td>0</td>\n",
              "      <td>1</td>\n",
              "      <td>0</td>\n",
              "      <td>0</td>\n",
              "      <td>0</td>\n",
              "      <td>0</td>\n",
              "      <td>0</td>\n",
              "      <td>0</td>\n",
              "      <td>0</td>\n",
              "      <td>0</td>\n",
              "      <td>0</td>\n",
              "      <td>0</td>\n",
              "      <td>0</td>\n",
              "      <td>0</td>\n",
              "      <td>0</td>\n",
              "      <td>0</td>\n",
              "      <td>0</td>\n",
              "      <td>0</td>\n",
              "      <td>0</td>\n",
              "    </tr>\n",
              "    <tr>\n",
              "      <th>4</th>\n",
              "      <td>2006</td>\n",
              "      <td>not disclosed</td>\n",
              "      <td>18.995</td>\n",
              "      <td>10</td>\n",
              "      <td>0</td>\n",
              "      <td>0</td>\n",
              "      <td>0</td>\n",
              "      <td>0</td>\n",
              "      <td>0</td>\n",
              "      <td>0</td>\n",
              "      <td>0</td>\n",
              "      <td>0</td>\n",
              "      <td>0</td>\n",
              "      <td>0</td>\n",
              "      <td>0</td>\n",
              "      <td>1</td>\n",
              "      <td>0</td>\n",
              "      <td>0</td>\n",
              "      <td>5</td>\n",
              "      <td>1</td>\n",
              "      <td>1</td>\n",
              "      <td>0</td>\n",
              "      <td>3</td>\n",
              "      <td>0</td>\n",
              "      <td>1</td>\n",
              "      <td>0</td>\n",
              "      <td>0</td>\n",
              "      <td>0</td>\n",
              "      <td>1</td>\n",
              "      <td>0</td>\n",
              "      <td>0</td>\n",
              "      <td>0</td>\n",
              "      <td>2</td>\n",
              "      <td>0</td>\n",
              "      <td>0</td>\n",
              "      <td>0</td>\n",
              "      <td>0</td>\n",
              "      <td>0</td>\n",
              "      <td>1</td>\n",
              "      <td>1</td>\n",
              "      <td>0</td>\n",
              "    </tr>\n",
              "  </tbody>\n",
              "</table>\n",
              "</div>"
            ],
            "text/plain": [
              "   gradyear         gender     age  friends  basketball  football  soccer  \\\n",
              "0      2006              M  18.982        7           0         0       0   \n",
              "1      2006              F  18.801        0           0         1       0   \n",
              "2      2006              M  18.335       69           0         1       0   \n",
              "3      2006              F  18.875        0           0         0       0   \n",
              "4      2006  not disclosed  18.995       10           0         0       0   \n",
              "\n",
              "   softball  volleyball  swimming  cheerleading  baseball  tennis  sports  \\\n",
              "0         0           0         0             0         0       0       0   \n",
              "1         0           0         0             0         0       0       0   \n",
              "2         0           0         0             0         0       0       0   \n",
              "3         0           0         0             0         0       0       0   \n",
              "4         0           0         0             0         0       0       0   \n",
              "\n",
              "   cute  sex  sexy  hot  kissed  dance  band  marching  music  rock  god  \\\n",
              "0     0    0     0    0       0      1     0         0      0     0    0   \n",
              "1     1    0     0    0       0      0     0         0      2     2    1   \n",
              "2     0    0     0    0       0      0     2         0      1     0    0   \n",
              "3     1    0     0    0       0      0     0         0      0     1    0   \n",
              "4     0    1     0    0       5      1     1         0      3     0    1   \n",
              "\n",
              "   church  jesus  bible  hair  dress  blonde  mall  shopping  clothes  \\\n",
              "0       0      0      0     0      0       0     0         0        0   \n",
              "1       0      0      0     6      4       0     1         0        0   \n",
              "2       0      0      0     0      0       0     0         0        0   \n",
              "3       0      0      0     0      0       0     0         0        0   \n",
              "4       0      0      0     1      0       0     0         2        0   \n",
              "\n",
              "   hollister  abercrombie  die  death  drunk  drugs  cluster  \n",
              "0          0            0    0      0      0      0        0  \n",
              "1          0            0    0      0      0      0        0  \n",
              "2          0            0    0      1      0      0        4  \n",
              "3          0            0    0      0      0      0        0  \n",
              "4          0            0    0      0      1      1        0  "
            ]
          },
          "metadata": {
            "tags": []
          },
          "execution_count": 48
        }
      ]
    },
    {
      "cell_type": "markdown",
      "metadata": {
        "id": "s6KWkCPT_FOY"
      },
      "source": [
        "## Interpreting Clustering Results"
      ]
    },
    {
      "cell_type": "markdown",
      "metadata": {
        "id": "QxJJCxE-_FOZ"
      },
      "source": [
        "Let's see cluster sizes first"
      ]
    },
    {
      "cell_type": "code",
      "metadata": {
        "id": "4HPJNrEw_FOa",
        "colab": {
          "base_uri": "https://localhost:8080/",
          "height": 444
        },
        "outputId": "2a6bb2a5-31fe-41e3-b328-4eb5a74e1a1d"
      },
      "source": [
        "plt.figure(figsize=(12,7))\n",
        "axis = sns.barplot(x=np.arange(0,5,1),y=data.groupby(['cluster']).count()['age'].values)\n",
        "x=axis.set_xlabel(\"Cluster Number\")\n",
        "x=axis.set_ylabel(\"Number of Students\")"
      ],
      "execution_count": null,
      "outputs": [
        {
          "output_type": "display_data",
          "data": {
            "image/png": "[encoded data removed]",
            "text/plain": [
              "<Figure size 864x504 with 1 Axes>"
            ]
          },
          "metadata": {
            "tags": [],
            "needs_background": "light"
          }
        }
      ]
    },
    {
      "cell_type": "markdown",
      "metadata": {
        "id": "kXr_Y0Bh_FOl"
      },
      "source": [
        "From the above plot we can see that cluster 0 is the largest and cluster 1 has fewest teen students"
      ]
    },
    {
      "cell_type": "markdown",
      "metadata": {
        "id": "FUAYEF5U_FOm"
      },
      "source": [
        "Let' see the number of students belonging to each cluster"
      ]
    },
    {
      "cell_type": "code",
      "metadata": {
        "id": "gwep1ByO_FOn",
        "colab": {
          "base_uri": "https://localhost:8080/",
          "height": 35
        },
        "outputId": "82ead051-886d-4798-ebab-c9fe52aaa161"
      },
      "source": [
        "size_array = list(data.groupby(['cluster']).count()['age'].values)\n",
        "size_array"
      ],
      "execution_count": null,
      "outputs": [
        {
          "output_type": "execute_result",
          "data": {
            "text/plain": [
              "[15324, 8955, 1209, 146, 4366]"
            ]
          },
          "metadata": {
            "tags": []
          },
          "execution_count": 50
        }
      ]
    },
    {
      "cell_type": "markdown",
      "metadata": {
        "id": "AkVHGjVM_FOu"
      },
      "source": [
        "let's check the cluster statistics"
      ]
    },
    {
      "cell_type": "code",
      "metadata": {
        "scrolled": false,
        "id": "NUXjpmWZ_FOw",
        "colab": {
          "base_uri": "https://localhost:8080/",
          "height": 243
        },
        "outputId": "e133cf6e-9b7c-4f2b-f2d9-872c2b0de3c6"
      },
      "source": [
        "data.groupby(['cluster']).mean()[['basketball', 'football','soccer', 'softball','volleyball','swimming','cheerleading','baseball','tennis','sports','cute','sex','sexy','hot','kissed','dance','band','marching','music','rock','god','church','jesus','bible','hair','dress','blonde','mall','shopping','clothes','hollister','abercrombie','die', 'death','drunk','drugs']]"
      ],
      "execution_count": null,
      "outputs": [
        {
          "output_type": "execute_result",
          "data": {
            "text/html": [
              "<div>\n",
              "<style scoped>\n",
              "    .dataframe tbody tr th:only-of-type {\n",
              "        vertical-align: middle;\n",
              "    }\n",
              "\n",
              "    .dataframe tbody tr th {\n",
              "        vertical-align: top;\n",
              "    }\n",
              "\n",
              "    .dataframe thead th {\n",
              "        text-align: right;\n",
              "    }\n",
              "</style>\n",
              "<table border=\"1\" class=\"dataframe\">\n",
              "  <thead>\n",
              "    <tr style=\"text-align: right;\">\n",
              "      <th></th>\n",
              "      <th>basketball</th>\n",
              "      <th>football</th>\n",
              "      <th>soccer</th>\n",
              "      <th>softball</th>\n",
              "      <th>volleyball</th>\n",
              "      <th>swimming</th>\n",
              "      <th>cheerleading</th>\n",
              "      <th>baseball</th>\n",
              "      <th>tennis</th>\n",
              "      <th>sports</th>\n",
              "      <th>cute</th>\n",
              "      <th>sex</th>\n",
              "      <th>sexy</th>\n",
              "      <th>hot</th>\n",
              "      <th>kissed</th>\n",
              "      <th>dance</th>\n",
              "      <th>band</th>\n",
              "      <th>marching</th>\n",
              "      <th>music</th>\n",
              "      <th>rock</th>\n",
              "      <th>god</th>\n",
              "      <th>church</th>\n",
              "      <th>jesus</th>\n",
              "      <th>bible</th>\n",
              "      <th>hair</th>\n",
              "      <th>dress</th>\n",
              "      <th>blonde</th>\n",
              "      <th>mall</th>\n",
              "      <th>shopping</th>\n",
              "      <th>clothes</th>\n",
              "      <th>hollister</th>\n",
              "      <th>abercrombie</th>\n",
              "      <th>die</th>\n",
              "      <th>death</th>\n",
              "      <th>drunk</th>\n",
              "      <th>drugs</th>\n",
              "    </tr>\n",
              "    <tr>\n",
              "      <th>cluster</th>\n",
              "      <th></th>\n",
              "      <th></th>\n",
              "      <th></th>\n",
              "      <th></th>\n",
              "      <th></th>\n",
              "      <th></th>\n",
              "      <th></th>\n",
              "      <th></th>\n",
              "      <th></th>\n",
              "      <th></th>\n",
              "      <th></th>\n",
              "      <th></th>\n",
              "      <th></th>\n",
              "      <th></th>\n",
              "      <th></th>\n",
              "      <th></th>\n",
              "      <th></th>\n",
              "      <th></th>\n",
              "      <th></th>\n",
              "      <th></th>\n",
              "      <th></th>\n",
              "      <th></th>\n",
              "      <th></th>\n",
              "      <th></th>\n",
              "      <th></th>\n",
              "      <th></th>\n",
              "      <th></th>\n",
              "      <th></th>\n",
              "      <th></th>\n",
              "      <th></th>\n",
              "      <th></th>\n",
              "      <th></th>\n",
              "      <th></th>\n",
              "      <th></th>\n",
              "      <th></th>\n",
              "      <th></th>\n",
              "    </tr>\n",
              "  </thead>\n",
              "  <tbody>\n",
              "    <tr>\n",
              "      <th>0</th>\n",
              "      <td>0.225007</td>\n",
              "      <td>0.230227</td>\n",
              "      <td>0.193422</td>\n",
              "      <td>0.121248</td>\n",
              "      <td>0.110611</td>\n",
              "      <td>0.115962</td>\n",
              "      <td>0.086596</td>\n",
              "      <td>0.091752</td>\n",
              "      <td>0.081049</td>\n",
              "      <td>0.127056</td>\n",
              "      <td>0.274471</td>\n",
              "      <td>0.207061</td>\n",
              "      <td>0.129405</td>\n",
              "      <td>0.108392</td>\n",
              "      <td>0.094884</td>\n",
              "      <td>0.368637</td>\n",
              "      <td>0.273362</td>\n",
              "      <td>0.035696</td>\n",
              "      <td>0.685787</td>\n",
              "      <td>0.222070</td>\n",
              "      <td>0.414578</td>\n",
              "      <td>0.204451</td>\n",
              "      <td>0.094753</td>\n",
              "      <td>0.019381</td>\n",
              "      <td>0.395001</td>\n",
              "      <td>0.095341</td>\n",
              "      <td>0.080201</td>\n",
              "      <td>0.221026</td>\n",
              "      <td>0.298486</td>\n",
              "      <td>0.134952</td>\n",
              "      <td>0.055142</td>\n",
              "      <td>0.040068</td>\n",
              "      <td>0.178870</td>\n",
              "      <td>0.101018</td>\n",
              "      <td>0.083986</td>\n",
              "      <td>0.064017</td>\n",
              "    </tr>\n",
              "    <tr>\n",
              "      <th>1</th>\n",
              "      <td>0.291681</td>\n",
              "      <td>0.268118</td>\n",
              "      <td>0.245673</td>\n",
              "      <td>0.179341</td>\n",
              "      <td>0.171636</td>\n",
              "      <td>0.152540</td>\n",
              "      <td>0.110218</td>\n",
              "      <td>0.111446</td>\n",
              "      <td>0.094472</td>\n",
              "      <td>0.156449</td>\n",
              "      <td>0.345394</td>\n",
              "      <td>0.224009</td>\n",
              "      <td>0.143942</td>\n",
              "      <td>0.135902</td>\n",
              "      <td>0.109213</td>\n",
              "      <td>0.464433</td>\n",
              "      <td>0.338023</td>\n",
              "      <td>0.046790</td>\n",
              "      <td>0.802122</td>\n",
              "      <td>0.263540</td>\n",
              "      <td>0.480514</td>\n",
              "      <td>0.261977</td>\n",
              "      <td>0.119821</td>\n",
              "      <td>0.022446</td>\n",
              "      <td>0.436628</td>\n",
              "      <td>0.121496</td>\n",
              "      <td>0.121161</td>\n",
              "      <td>0.264545</td>\n",
              "      <td>0.378001</td>\n",
              "      <td>0.157342</td>\n",
              "      <td>0.072473</td>\n",
              "      <td>0.049916</td>\n",
              "      <td>0.194193</td>\n",
              "      <td>0.128867</td>\n",
              "      <td>0.088442</td>\n",
              "      <td>0.056840</td>\n",
              "    </tr>\n",
              "    <tr>\n",
              "      <th>2</th>\n",
              "      <td>0.388751</td>\n",
              "      <td>0.292804</td>\n",
              "      <td>0.239868</td>\n",
              "      <td>0.260546</td>\n",
              "      <td>0.207610</td>\n",
              "      <td>0.150538</td>\n",
              "      <td>0.210918</td>\n",
              "      <td>0.134822</td>\n",
              "      <td>0.096774</td>\n",
              "      <td>0.138958</td>\n",
              "      <td>0.479735</td>\n",
              "      <td>0.228288</td>\n",
              "      <td>0.200993</td>\n",
              "      <td>0.204301</td>\n",
              "      <td>0.118280</td>\n",
              "      <td>0.565757</td>\n",
              "      <td>0.286187</td>\n",
              "      <td>0.041356</td>\n",
              "      <td>0.773366</td>\n",
              "      <td>0.253929</td>\n",
              "      <td>0.626964</td>\n",
              "      <td>0.376344</td>\n",
              "      <td>0.151365</td>\n",
              "      <td>0.029777</td>\n",
              "      <td>0.521919</td>\n",
              "      <td>0.157155</td>\n",
              "      <td>0.134822</td>\n",
              "      <td>0.430108</td>\n",
              "      <td>0.500414</td>\n",
              "      <td>0.164599</td>\n",
              "      <td>0.138131</td>\n",
              "      <td>0.095120</td>\n",
              "      <td>0.210918</td>\n",
              "      <td>0.141439</td>\n",
              "      <td>0.119934</td>\n",
              "      <td>0.049628</td>\n",
              "    </tr>\n",
              "    <tr>\n",
              "      <th>3</th>\n",
              "      <td>0.328767</td>\n",
              "      <td>0.287671</td>\n",
              "      <td>0.287671</td>\n",
              "      <td>0.212329</td>\n",
              "      <td>0.219178</td>\n",
              "      <td>0.219178</td>\n",
              "      <td>0.143836</td>\n",
              "      <td>0.150685</td>\n",
              "      <td>0.095890</td>\n",
              "      <td>0.143836</td>\n",
              "      <td>0.438356</td>\n",
              "      <td>0.226027</td>\n",
              "      <td>0.164384</td>\n",
              "      <td>0.136986</td>\n",
              "      <td>0.178082</td>\n",
              "      <td>0.486301</td>\n",
              "      <td>0.397260</td>\n",
              "      <td>0.068493</td>\n",
              "      <td>0.732877</td>\n",
              "      <td>0.198630</td>\n",
              "      <td>0.650685</td>\n",
              "      <td>0.239726</td>\n",
              "      <td>0.089041</td>\n",
              "      <td>0.006849</td>\n",
              "      <td>0.678082</td>\n",
              "      <td>0.191781</td>\n",
              "      <td>0.130137</td>\n",
              "      <td>0.287671</td>\n",
              "      <td>0.513699</td>\n",
              "      <td>0.212329</td>\n",
              "      <td>0.130137</td>\n",
              "      <td>0.157534</td>\n",
              "      <td>0.205479</td>\n",
              "      <td>0.136986</td>\n",
              "      <td>0.136986</td>\n",
              "      <td>0.061644</td>\n",
              "    </tr>\n",
              "    <tr>\n",
              "      <th>4</th>\n",
              "      <td>0.330279</td>\n",
              "      <td>0.284929</td>\n",
              "      <td>0.271874</td>\n",
              "      <td>0.234998</td>\n",
              "      <td>0.178424</td>\n",
              "      <td>0.154604</td>\n",
              "      <td>0.139487</td>\n",
              "      <td>0.128035</td>\n",
              "      <td>0.091846</td>\n",
              "      <td>0.151626</td>\n",
              "      <td>0.399221</td>\n",
              "      <td>0.181860</td>\n",
              "      <td>0.159643</td>\n",
              "      <td>0.149565</td>\n",
              "      <td>0.113376</td>\n",
              "      <td>0.502061</td>\n",
              "      <td>0.313330</td>\n",
              "      <td>0.043976</td>\n",
              "      <td>0.778974</td>\n",
              "      <td>0.275080</td>\n",
              "      <td>0.561154</td>\n",
              "      <td>0.338067</td>\n",
              "      <td>0.146816</td>\n",
              "      <td>0.024049</td>\n",
              "      <td>0.454421</td>\n",
              "      <td>0.128722</td>\n",
              "      <td>0.108108</td>\n",
              "      <td>0.321347</td>\n",
              "      <td>0.446862</td>\n",
              "      <td>0.171324</td>\n",
              "      <td>0.095282</td>\n",
              "      <td>0.076958</td>\n",
              "      <td>0.173614</td>\n",
              "      <td>0.122309</td>\n",
              "      <td>0.090472</td>\n",
              "      <td>0.058177</td>\n",
              "    </tr>\n",
              "  </tbody>\n",
              "</table>\n",
              "</div>"
            ],
            "text/plain": [
              "         basketball  football    soccer  softball  volleyball  swimming  \\\n",
              "cluster                                                                   \n",
              "0          0.225007  0.230227  0.193422  0.121248    0.110611  0.115962   \n",
              "1          0.291681  0.268118  0.245673  0.179341    0.171636  0.152540   \n",
              "2          0.388751  0.292804  0.239868  0.260546    0.207610  0.150538   \n",
              "3          0.328767  0.287671  0.287671  0.212329    0.219178  0.219178   \n",
              "4          0.330279  0.284929  0.271874  0.234998    0.178424  0.154604   \n",
              "\n",
              "         cheerleading  baseball    tennis    sports      cute       sex  \\\n",
              "cluster                                                                   \n",
              "0            0.086596  0.091752  0.081049  0.127056  0.274471  0.207061   \n",
              "1            0.110218  0.111446  0.094472  0.156449  0.345394  0.224009   \n",
              "2            0.210918  0.134822  0.096774  0.138958  0.479735  0.228288   \n",
              "3            0.143836  0.150685  0.095890  0.143836  0.438356  0.226027   \n",
              "4            0.139487  0.128035  0.091846  0.151626  0.399221  0.181860   \n",
              "\n",
              "             sexy       hot    kissed     dance      band  marching     music  \\\n",
              "cluster                                                                         \n",
              "0        0.129405  0.108392  0.094884  0.368637  0.273362  0.035696  0.685787   \n",
              "1        0.143942  0.135902  0.109213  0.464433  0.338023  0.046790  0.802122   \n",
              "2        0.200993  0.204301  0.118280  0.565757  0.286187  0.041356  0.773366   \n",
              "3        0.164384  0.136986  0.178082  0.486301  0.397260  0.068493  0.732877   \n",
              "4        0.159643  0.149565  0.113376  0.502061  0.313330  0.043976  0.778974   \n",
              "\n",
              "             rock       god    church     jesus     bible      hair     dress  \\\n",
              "cluster                                                                         \n",
              "0        0.222070  0.414578  0.204451  0.094753  0.019381  0.395001  0.095341   \n",
              "1        0.263540  0.480514  0.261977  0.119821  0.022446  0.436628  0.121496   \n",
              "2        0.253929  0.626964  0.376344  0.151365  0.029777  0.521919  0.157155   \n",
              "3        0.198630  0.650685  0.239726  0.089041  0.006849  0.678082  0.191781   \n",
              "4        0.275080  0.561154  0.338067  0.146816  0.024049  0.454421  0.128722   \n",
              "\n",
              "           blonde      mall  shopping   clothes  hollister  abercrombie  \\\n",
              "cluster                                                                   \n",
              "0        0.080201  0.221026  0.298486  0.134952   0.055142     0.040068   \n",
              "1        0.121161  0.264545  0.378001  0.157342   0.072473     0.049916   \n",
              "2        0.134822  0.430108  0.500414  0.164599   0.138131     0.095120   \n",
              "3        0.130137  0.287671  0.513699  0.212329   0.130137     0.157534   \n",
              "4        0.108108  0.321347  0.446862  0.171324   0.095282     0.076958   \n",
              "\n",
              "              die     death     drunk     drugs  \n",
              "cluster                                          \n",
              "0        0.178870  0.101018  0.083986  0.064017  \n",
              "1        0.194193  0.128867  0.088442  0.056840  \n",
              "2        0.210918  0.141439  0.119934  0.049628  \n",
              "3        0.205479  0.136986  0.136986  0.061644  \n",
              "4        0.173614  0.122309  0.090472  0.058177  "
            ]
          },
          "metadata": {
            "tags": []
          },
          "execution_count": 51
        }
      ]
    },
    {
      "cell_type": "markdown",
      "metadata": {
        "id": "mOvM2vZ2_FOz"
      },
      "source": [
        "The cluster center values shows each of the cluster centroids of the coordinates. The row referes to the five clusters,the numbers across each row indicates the cluster’s average value for the interest listed at the top of the column. Positive values are above the overall mean level.\n",
        "\n",
        "> Indented block\n",
        "\n"
      ]
    },
    {
      "cell_type": "code",
      "metadata": {
        "id": "Fm-4OQ7L_FO0"
      },
      "source": [
        ""
      ],
      "execution_count": null,
      "outputs": []
    }
  ]
}